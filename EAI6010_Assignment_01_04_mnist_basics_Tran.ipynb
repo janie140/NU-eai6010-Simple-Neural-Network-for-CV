{
  "cells": [
    {
      "cell_type": "code",
      "execution_count": 3,
      "metadata": {
        "colab": {
          "base_uri": "https://localhost:8080/"
        },
        "id": "uUbBpxc6T_Y8",
        "outputId": "7810471b-6751-4fa8-d118-09704463debe"
      },
      "outputs": [
        {
          "output_type": "stream",
          "name": "stdout",
          "text": [
            "\u001b[2K     \u001b[90m━━━━━━━━━━━━━━━━━━━━━━━━━━━━━━━━━━━━━━━━\u001b[0m \u001b[32m719.8/719.8 kB\u001b[0m \u001b[31m9.3 MB/s\u001b[0m eta \u001b[36m0:00:00\u001b[0m\n",
            "\u001b[2K     \u001b[90m━━━━━━━━━━━━━━━━━━━━━━━━━━━━━━━━━━━━━━━━\u001b[0m \u001b[32m542.0/542.0 kB\u001b[0m \u001b[31m15.1 MB/s\u001b[0m eta \u001b[36m0:00:00\u001b[0m\n",
            "\u001b[2K     \u001b[90m━━━━━━━━━━━━━━━━━━━━━━━━━━━━━━━━━━━━━━━━\u001b[0m \u001b[32m116.3/116.3 kB\u001b[0m \u001b[31m9.9 MB/s\u001b[0m eta \u001b[36m0:00:00\u001b[0m\n",
            "\u001b[2K     \u001b[90m━━━━━━━━━━━━━━━━━━━━━━━━━━━━━━━━━━━━━━━━\u001b[0m \u001b[32m194.1/194.1 kB\u001b[0m \u001b[31m12.7 MB/s\u001b[0m eta \u001b[36m0:00:00\u001b[0m\n",
            "\u001b[2K     \u001b[90m━━━━━━━━━━━━━━━━━━━━━━━━━━━━━━━━━━━━━━━━\u001b[0m \u001b[32m134.8/134.8 kB\u001b[0m \u001b[31m11.4 MB/s\u001b[0m eta \u001b[36m0:00:00\u001b[0m\n",
            "\u001b[2K     \u001b[90m━━━━━━━━━━━━━━━━━━━━━━━━━━━━━━━━━━━━━━━━\u001b[0m \u001b[32m1.6/1.6 MB\u001b[0m \u001b[31m23.2 MB/s\u001b[0m eta \u001b[36m0:00:00\u001b[0m\n",
            "\u001b[2K     \u001b[90m━━━━━━━━━━━━━━━━━━━━━━━━━━━━━━━━━━━━━━━━\u001b[0m \u001b[32m21.3/21.3 MB\u001b[0m \u001b[31m56.3 MB/s\u001b[0m eta \u001b[36m0:00:00\u001b[0m\n",
            "\u001b[?25hMounted at /content/gdrive\n"
          ]
        }
      ],
      "source": [
        "#hide\n",
        "! [ -e /content ] && pip install -Uqq fastbook\n",
        "import fastbook\n",
        "fastbook.setup_book()"
      ]
    },
    {
      "cell_type": "code",
      "execution_count": 4,
      "metadata": {
        "id": "h3q8CL_UT_ZD"
      },
      "outputs": [],
      "source": [
        "#hide\n",
        "from fastai.vision.all import *\n",
        "from fastbook import *\n",
        "\n",
        "matplotlib.rc('image', cmap='Greys')"
      ]
    },
    {
      "cell_type": "raw",
      "metadata": {
        "id": "Lpk1hj-6T_an"
      },
      "source": [
        "[[chapter_mnist_basics]]"
      ]
    },
    {
      "cell_type": "code",
      "execution_count": 5,
      "metadata": {
        "colab": {
          "base_uri": "https://localhost:8080/",
          "height": 37
        },
        "id": "6gXu1LkAT_d1",
        "outputId": "81ee9fb2-2ef9-4469-ac6d-8b96afd78106"
      },
      "outputs": [
        {
          "output_type": "display_data",
          "data": {
            "text/plain": [
              "<IPython.core.display.HTML object>"
            ],
            "text/html": [
              "\n",
              "<style>\n",
              "    /* Turns off some styling */\n",
              "    progress {\n",
              "        /* gets rid of default border in Firefox and Opera. */\n",
              "        border: none;\n",
              "        /* Needs to be in here for Safari polyfill so background images work as expected. */\n",
              "        background-size: auto;\n",
              "    }\n",
              "    progress:not([value]), progress:not([value])::-webkit-progress-bar {\n",
              "        background: repeating-linear-gradient(45deg, #7e7e7e, #7e7e7e 10px, #5c5c5c 10px, #5c5c5c 20px);\n",
              "    }\n",
              "    .progress-bar-interrupted, .progress-bar-interrupted::-webkit-progress-bar {\n",
              "        background: #F44336;\n",
              "    }\n",
              "</style>\n"
            ]
          },
          "metadata": {}
        },
        {
          "output_type": "display_data",
          "data": {
            "text/plain": [
              "<IPython.core.display.HTML object>"
            ],
            "text/html": [
              "\n",
              "    <div>\n",
              "      <progress value='3219456' class='' max='3214948' style='width:300px; height:20px; vertical-align: middle;'></progress>\n",
              "      100.14% [3219456/3214948 00:00&lt;00:00]\n",
              "    </div>\n",
              "    "
            ]
          },
          "metadata": {}
        }
      ],
      "source": [
        "path = untar_data(URLs.MNIST_SAMPLE) #download the MNIST sample dataset from a predefined URL provided by FastAI, and store the path to the extracted data in the variable path"
      ]
    },
    {
      "cell_type": "code",
      "execution_count": 5,
      "metadata": {
        "id": "ygrRo92XT_d2"
      },
      "outputs": [],
      "source": [
        "#hide\n",
        "Path.BASE_PATH = path"
      ]
    },
    {
      "cell_type": "code",
      "execution_count": 6,
      "metadata": {
        "colab": {
          "base_uri": "https://localhost:8080/"
        },
        "id": "Njaqxz3_T_d9",
        "outputId": "a84234e6-6f2d-4470-a656-ca2b44ddb2dc"
      },
      "outputs": [
        {
          "output_type": "execute_result",
          "data": {
            "text/plain": [
              "(#3) [Path('/root/.fastai/data/mnist_sample/labels.csv'),Path('/root/.fastai/data/mnist_sample/valid'),Path('/root/.fastai/data/mnist_sample/train')]"
            ]
          },
          "metadata": {},
          "execution_count": 6
        }
      ],
      "source": [
        "path.ls() #return a list of all files and subdirectories in the directory specified by path"
      ]
    },
    {
      "cell_type": "code",
      "execution_count": 7,
      "metadata": {
        "colab": {
          "base_uri": "https://localhost:8080/"
        },
        "id": "UfZ61dN5T_eB",
        "outputId": "e0306f23-91c3-490f-f1e6-054445d16f9d"
      },
      "outputs": [
        {
          "output_type": "execute_result",
          "data": {
            "text/plain": [
              "(#2) [Path('/root/.fastai/data/mnist_sample/train/3'),Path('/root/.fastai/data/mnist_sample/train/7')]"
            ]
          },
          "metadata": {},
          "execution_count": 7
        }
      ],
      "source": [
        "(path/'train').ls() #list the contents of the train directory within the path"
      ]
    },
    {
      "cell_type": "code",
      "execution_count": 8,
      "metadata": {
        "colab": {
          "base_uri": "https://localhost:8080/"
        },
        "id": "DHGJPyucT_eD",
        "outputId": "97cc505f-c704-4855-b275-8f2bb9b6a259"
      },
      "outputs": [
        {
          "output_type": "execute_result",
          "data": {
            "text/plain": [
              "(#6131) [Path('/root/.fastai/data/mnist_sample/train/3/10.png'),Path('/root/.fastai/data/mnist_sample/train/3/10000.png'),Path('/root/.fastai/data/mnist_sample/train/3/10011.png'),Path('/root/.fastai/data/mnist_sample/train/3/10031.png'),Path('/root/.fastai/data/mnist_sample/train/3/10034.png'),Path('/root/.fastai/data/mnist_sample/train/3/10042.png'),Path('/root/.fastai/data/mnist_sample/train/3/10052.png'),Path('/root/.fastai/data/mnist_sample/train/3/1007.png'),Path('/root/.fastai/data/mnist_sample/train/3/10074.png'),Path('/root/.fastai/data/mnist_sample/train/3/10091.png')...]"
            ]
          },
          "metadata": {},
          "execution_count": 8
        }
      ],
      "source": [
        "#  list and sort the contents of the directory 'train' containing images of the digits '3' and '7'\n",
        "threes = (path/'train'/'3').ls().sorted()\n",
        "sevens = (path/'train'/'7').ls().sorted()\n",
        "threes"
      ]
    },
    {
      "cell_type": "code",
      "execution_count": 9,
      "metadata": {
        "colab": {
          "base_uri": "https://localhost:8080/",
          "height": 45
        },
        "id": "I1okJ6A3T_eE",
        "outputId": "ed8fee9b-124a-4451-a397-954fcbb52ea2"
      },
      "outputs": [
        {
          "output_type": "execute_result",
          "data": {
            "text/plain": [
              "<PIL.PngImagePlugin.PngImageFile image mode=L size=28x28>"
            ],
            "image/png": "[encoded data removed]"
          },
          "metadata": {},
          "execution_count": 9
        }
      ],
      "source": [
        "im3_path = threes[1]\n",
        "im3 = Image.open(im3_path) #use the Image class from the Python Imaging Library (PIL, which is now part of the Pillow library) to open the image file specified by im3_path\n",
        "im3 #display the image"
      ]
    },
    {
      "cell_type": "code",
      "execution_count": 10,
      "metadata": {
        "colab": {
          "base_uri": "https://localhost:8080/"
        },
        "id": "5WTDFwX7T_eH",
        "outputId": "ee928b9a-6dab-47c0-e745-7a78892386cd"
      },
      "outputs": [
        {
          "output_type": "execute_result",
          "data": {
            "text/plain": [
              "array([[  0,   0,   0,   0,   0,   0],\n",
              "       [  0,   0,   0,   0,   0,  29],\n",
              "       [  0,   0,   0,  48, 166, 224],\n",
              "       [  0,  93, 244, 249, 253, 187],\n",
              "       [  0, 107, 253, 253, 230,  48],\n",
              "       [  0,   3,  20,  20,  15,   0]], dtype=uint8)"
            ]
          },
          "metadata": {},
          "execution_count": 10
        }
      ],
      "source": [
        "#convert the PIL image object im3 into a NumPy array and then extract a specific portion of this array\n",
        "array(im3)[4:10,4:10]"
      ]
    },
    {
      "cell_type": "code",
      "execution_count": 11,
      "metadata": {
        "colab": {
          "base_uri": "https://localhost:8080/"
        },
        "id": "DsQWVZEDT_eU",
        "outputId": "9fe26fb6-b7dd-4f64-c7a5-bed55bdda4bb"
      },
      "outputs": [
        {
          "output_type": "execute_result",
          "data": {
            "text/plain": [
              "tensor([[  0,   0,   0,   0,   0,   0],\n",
              "        [  0,   0,   0,   0,   0,  29],\n",
              "        [  0,   0,   0,  48, 166, 224],\n",
              "        [  0,  93, 244, 249, 253, 187],\n",
              "        [  0, 107, 253, 253, 230,  48],\n",
              "        [  0,   3,  20,  20,  15,   0]], dtype=torch.uint8)"
            ]
          },
          "metadata": {},
          "execution_count": 11
        }
      ],
      "source": [
        "#convert the PIL image object im3 into a PyTorch tensor and then extract a specific portion of this tensor\n",
        "tensor(im3)[4:10,4:10]"
      ]
    },
    {
      "cell_type": "code",
      "execution_count": 12,
      "metadata": {
        "colab": {
          "base_uri": "https://localhost:8080/",
          "height": 394
        },
        "id": "P4En7aF-T_eV",
        "outputId": "9b5bec0d-98c7-4194-8d13-2547ec0f737e"
      },
      "outputs": [
        {
          "output_type": "execute_result",
          "data": {
            "text/plain": [
              "<pandas.io.formats.style.Styler at 0x7befee597ac0>"
            ],
            "text/html": [
              "<style type=\"text/css\">\n",
              "#T_d8eae_row0_col0, #T_d8eae_row0_col1, #T_d8eae_row0_col2, #T_d8eae_row0_col3, #T_d8eae_row0_col4, #T_d8eae_row0_col5, #T_d8eae_row0_col6, #T_d8eae_row0_col7, #T_d8eae_row0_col8, #T_d8eae_row0_col9, #T_d8eae_row0_col10, #T_d8eae_row0_col11, #T_d8eae_row0_col12, #T_d8eae_row0_col13, #T_d8eae_row0_col14, #T_d8eae_row0_col15, #T_d8eae_row0_col16, #T_d8eae_row0_col17, #T_d8eae_row1_col0, #T_d8eae_row1_col1, #T_d8eae_row1_col2, #T_d8eae_row1_col3, #T_d8eae_row1_col4, #T_d8eae_row1_col15, #T_d8eae_row1_col16, #T_d8eae_row1_col17, #T_d8eae_row2_col0, #T_d8eae_row2_col1, #T_d8eae_row2_col2, #T_d8eae_row2_col15, #T_d8eae_row2_col16, #T_d8eae_row2_col17, #T_d8eae_row3_col0, #T_d8eae_row3_col15, #T_d8eae_row3_col16, #T_d8eae_row3_col17, #T_d8eae_row4_col0, #T_d8eae_row4_col6, #T_d8eae_row4_col7, #T_d8eae_row4_col8, #T_d8eae_row4_col9, #T_d8eae_row4_col10, #T_d8eae_row4_col15, #T_d8eae_row4_col16, #T_d8eae_row4_col17, #T_d8eae_row5_col0, #T_d8eae_row5_col5, #T_d8eae_row5_col6, #T_d8eae_row5_col7, #T_d8eae_row5_col8, #T_d8eae_row5_col9, #T_d8eae_row5_col15, #T_d8eae_row5_col16, #T_d8eae_row5_col17, #T_d8eae_row6_col0, #T_d8eae_row6_col1, #T_d8eae_row6_col2, #T_d8eae_row6_col3, #T_d8eae_row6_col4, #T_d8eae_row6_col5, #T_d8eae_row6_col6, #T_d8eae_row6_col7, #T_d8eae_row6_col8, #T_d8eae_row6_col9, #T_d8eae_row6_col14, #T_d8eae_row6_col15, #T_d8eae_row6_col16, #T_d8eae_row6_col17, #T_d8eae_row7_col0, #T_d8eae_row7_col1, #T_d8eae_row7_col2, #T_d8eae_row7_col3, #T_d8eae_row7_col4, #T_d8eae_row7_col5, #T_d8eae_row7_col6, #T_d8eae_row7_col13, #T_d8eae_row7_col14, #T_d8eae_row7_col15, #T_d8eae_row7_col16, #T_d8eae_row7_col17, #T_d8eae_row8_col0, #T_d8eae_row8_col1, #T_d8eae_row8_col2, #T_d8eae_row8_col3, #T_d8eae_row8_col4, #T_d8eae_row8_col13, #T_d8eae_row8_col14, #T_d8eae_row8_col15, #T_d8eae_row8_col16, #T_d8eae_row8_col17, #T_d8eae_row9_col0, #T_d8eae_row9_col1, #T_d8eae_row9_col2, #T_d8eae_row9_col3, #T_d8eae_row9_col4, #T_d8eae_row9_col16, #T_d8eae_row9_col17, #T_d8eae_row10_col0, #T_d8eae_row10_col1, #T_d8eae_row10_col2, #T_d8eae_row10_col3, #T_d8eae_row10_col4, #T_d8eae_row10_col5, #T_d8eae_row10_col6, #T_d8eae_row10_col17 {\n",
              "  font-size: 6pt;\n",
              "  background-color: #ffffff;\n",
              "  color: #000000;\n",
              "}\n",
              "#T_d8eae_row1_col5 {\n",
              "  font-size: 6pt;\n",
              "  background-color: #efefef;\n",
              "  color: #000000;\n",
              "}\n",
              "#T_d8eae_row1_col6, #T_d8eae_row1_col13 {\n",
              "  font-size: 6pt;\n",
              "  background-color: #7c7c7c;\n",
              "  color: #f1f1f1;\n",
              "}\n",
              "#T_d8eae_row1_col7 {\n",
              "  font-size: 6pt;\n",
              "  background-color: #4a4a4a;\n",
              "  color: #f1f1f1;\n",
              "}\n",
              "#T_d8eae_row1_col8, #T_d8eae_row1_col9, #T_d8eae_row1_col10, #T_d8eae_row2_col5, #T_d8eae_row2_col6, #T_d8eae_row2_col7, #T_d8eae_row2_col11, #T_d8eae_row2_col12, #T_d8eae_row2_col13, #T_d8eae_row3_col4, #T_d8eae_row3_col12, #T_d8eae_row3_col13, #T_d8eae_row4_col1, #T_d8eae_row4_col2, #T_d8eae_row4_col3, #T_d8eae_row4_col12, #T_d8eae_row4_col13, #T_d8eae_row5_col12, #T_d8eae_row6_col11, #T_d8eae_row9_col11, #T_d8eae_row10_col11, #T_d8eae_row10_col12, #T_d8eae_row10_col13, #T_d8eae_row10_col14, #T_d8eae_row10_col15, #T_d8eae_row10_col16 {\n",
              "  font-size: 6pt;\n",
              "  background-color: #000000;\n",
              "  color: #f1f1f1;\n",
              "}\n",
              "#T_d8eae_row1_col11 {\n",
              "  font-size: 6pt;\n",
              "  background-color: #606060;\n",
              "  color: #f1f1f1;\n",
              "}\n",
              "#T_d8eae_row1_col12 {\n",
              "  font-size: 6pt;\n",
              "  background-color: #4d4d4d;\n",
              "  color: #f1f1f1;\n",
              "}\n",
              "#T_d8eae_row1_col14 {\n",
              "  font-size: 6pt;\n",
              "  background-color: #bbbbbb;\n",
              "  color: #000000;\n",
              "}\n",
              "#T_d8eae_row2_col3 {\n",
              "  font-size: 6pt;\n",
              "  background-color: #e4e4e4;\n",
              "  color: #000000;\n",
              "}\n",
              "#T_d8eae_row2_col4, #T_d8eae_row8_col6 {\n",
              "  font-size: 6pt;\n",
              "  background-color: #6b6b6b;\n",
              "  color: #f1f1f1;\n",
              "}\n",
              "#T_d8eae_row2_col8, #T_d8eae_row2_col14, #T_d8eae_row3_col14 {\n",
              "  font-size: 6pt;\n",
              "  background-color: #171717;\n",
              "  color: #f1f1f1;\n",
              "}\n",
              "#T_d8eae_row2_col9, #T_d8eae_row3_col11 {\n",
              "  font-size: 6pt;\n",
              "  background-color: #4b4b4b;\n",
              "  color: #f1f1f1;\n",
              "}\n",
              "#T_d8eae_row2_col10, #T_d8eae_row7_col10, #T_d8eae_row8_col8, #T_d8eae_row8_col10, #T_d8eae_row9_col8, #T_d8eae_row9_col10 {\n",
              "  font-size: 6pt;\n",
              "  background-color: #010101;\n",
              "  color: #f1f1f1;\n",
              "}\n",
              "#T_d8eae_row3_col1 {\n",
              "  font-size: 6pt;\n",
              "  background-color: #272727;\n",
              "  color: #f1f1f1;\n",
              "}\n",
              "#T_d8eae_row3_col2 {\n",
              "  font-size: 6pt;\n",
              "  background-color: #0a0a0a;\n",
              "  color: #f1f1f1;\n",
              "}\n",
              "#T_d8eae_row3_col3 {\n",
              "  font-size: 6pt;\n",
              "  background-color: #050505;\n",
              "  color: #f1f1f1;\n",
              "}\n",
              "#T_d8eae_row3_col5 {\n",
              "  font-size: 6pt;\n",
              "  background-color: #333333;\n",
              "  color: #f1f1f1;\n",
              "}\n",
              "#T_d8eae_row3_col6 {\n",
              "  font-size: 6pt;\n",
              "  background-color: #e6e6e6;\n",
              "  color: #000000;\n",
              "}\n",
              "#T_d8eae_row3_col7, #T_d8eae_row3_col10 {\n",
              "  font-size: 6pt;\n",
              "  background-color: #fafafa;\n",
              "  color: #000000;\n",
              "}\n",
              "#T_d8eae_row3_col8 {\n",
              "  font-size: 6pt;\n",
              "  background-color: #fbfbfb;\n",
              "  color: #000000;\n",
              "}\n",
              "#T_d8eae_row3_col9 {\n",
              "  font-size: 6pt;\n",
              "  background-color: #fdfdfd;\n",
              "  color: #000000;\n",
              "}\n",
              "#T_d8eae_row4_col4 {\n",
              "  font-size: 6pt;\n",
              "  background-color: #1b1b1b;\n",
              "  color: #f1f1f1;\n",
              "}\n",
              "#T_d8eae_row4_col5 {\n",
              "  font-size: 6pt;\n",
              "  background-color: #e0e0e0;\n",
              "  color: #000000;\n",
              "}\n",
              "#T_d8eae_row4_col11 {\n",
              "  font-size: 6pt;\n",
              "  background-color: #4e4e4e;\n",
              "  color: #f1f1f1;\n",
              "}\n",
              "#T_d8eae_row4_col14 {\n",
              "  font-size: 6pt;\n",
              "  background-color: #767676;\n",
              "  color: #f1f1f1;\n",
              "}\n",
              "#T_d8eae_row5_col1 {\n",
              "  font-size: 6pt;\n",
              "  background-color: #fcfcfc;\n",
              "  color: #000000;\n",
              "}\n",
              "#T_d8eae_row5_col2, #T_d8eae_row5_col3 {\n",
              "  font-size: 6pt;\n",
              "  background-color: #f6f6f6;\n",
              "  color: #000000;\n",
              "}\n",
              "#T_d8eae_row5_col4, #T_d8eae_row7_col7 {\n",
              "  font-size: 6pt;\n",
              "  background-color: #f8f8f8;\n",
              "  color: #000000;\n",
              "}\n",
              "#T_d8eae_row5_col10, #T_d8eae_row10_col7 {\n",
              "  font-size: 6pt;\n",
              "  background-color: #e8e8e8;\n",
              "  color: #000000;\n",
              "}\n",
              "#T_d8eae_row5_col11 {\n",
              "  font-size: 6pt;\n",
              "  background-color: #222222;\n",
              "  color: #f1f1f1;\n",
              "}\n",
              "#T_d8eae_row5_col13, #T_d8eae_row6_col12 {\n",
              "  font-size: 6pt;\n",
              "  background-color: #090909;\n",
              "  color: #f1f1f1;\n",
              "}\n",
              "#T_d8eae_row5_col14 {\n",
              "  font-size: 6pt;\n",
              "  background-color: #d0d0d0;\n",
              "  color: #000000;\n",
              "}\n",
              "#T_d8eae_row6_col10, #T_d8eae_row7_col11, #T_d8eae_row9_col6 {\n",
              "  font-size: 6pt;\n",
              "  background-color: #060606;\n",
              "  color: #f1f1f1;\n",
              "}\n",
              "#T_d8eae_row6_col13 {\n",
              "  font-size: 6pt;\n",
              "  background-color: #979797;\n",
              "  color: #f1f1f1;\n",
              "}\n",
              "#T_d8eae_row7_col8 {\n",
              "  font-size: 6pt;\n",
              "  background-color: #b6b6b6;\n",
              "  color: #000000;\n",
              "}\n",
              "#T_d8eae_row7_col9 {\n",
              "  font-size: 6pt;\n",
              "  background-color: #252525;\n",
              "  color: #f1f1f1;\n",
              "}\n",
              "#T_d8eae_row7_col12 {\n",
              "  font-size: 6pt;\n",
              "  background-color: #999999;\n",
              "  color: #f1f1f1;\n",
              "}\n",
              "#T_d8eae_row8_col5 {\n",
              "  font-size: 6pt;\n",
              "  background-color: #f9f9f9;\n",
              "  color: #000000;\n",
              "}\n",
              "#T_d8eae_row8_col7 {\n",
              "  font-size: 6pt;\n",
              "  background-color: #101010;\n",
              "  color: #f1f1f1;\n",
              "}\n",
              "#T_d8eae_row8_col9, #T_d8eae_row9_col9 {\n",
              "  font-size: 6pt;\n",
              "  background-color: #020202;\n",
              "  color: #f1f1f1;\n",
              "}\n",
              "#T_d8eae_row8_col11 {\n",
              "  font-size: 6pt;\n",
              "  background-color: #545454;\n",
              "  color: #f1f1f1;\n",
              "}\n",
              "#T_d8eae_row8_col12 {\n",
              "  font-size: 6pt;\n",
              "  background-color: #f1f1f1;\n",
              "  color: #000000;\n",
              "}\n",
              "#T_d8eae_row9_col5 {\n",
              "  font-size: 6pt;\n",
              "  background-color: #f7f7f7;\n",
              "  color: #000000;\n",
              "}\n",
              "#T_d8eae_row9_col7 {\n",
              "  font-size: 6pt;\n",
              "  background-color: #030303;\n",
              "  color: #f1f1f1;\n",
              "}\n",
              "#T_d8eae_row9_col12 {\n",
              "  font-size: 6pt;\n",
              "  background-color: #181818;\n",
              "  color: #f1f1f1;\n",
              "}\n",
              "#T_d8eae_row9_col13 {\n",
              "  font-size: 6pt;\n",
              "  background-color: #303030;\n",
              "  color: #f1f1f1;\n",
              "}\n",
              "#T_d8eae_row9_col14 {\n",
              "  font-size: 6pt;\n",
              "  background-color: #a9a9a9;\n",
              "  color: #f1f1f1;\n",
              "}\n",
              "#T_d8eae_row9_col15 {\n",
              "  font-size: 6pt;\n",
              "  background-color: #fefefe;\n",
              "  color: #000000;\n",
              "}\n",
              "#T_d8eae_row10_col8, #T_d8eae_row10_col9 {\n",
              "  font-size: 6pt;\n",
              "  background-color: #bababa;\n",
              "  color: #000000;\n",
              "}\n",
              "#T_d8eae_row10_col10 {\n",
              "  font-size: 6pt;\n",
              "  background-color: #393939;\n",
              "  color: #f1f1f1;\n",
              "}\n",
              "</style>\n",
              "<table id=\"T_d8eae\" class=\"dataframe\">\n",
              "  <thead>\n",
              "    <tr>\n",
              "      <th class=\"blank level0\" >&nbsp;</th>\n",
              "      <th id=\"T_d8eae_level0_col0\" class=\"col_heading level0 col0\" >0</th>\n",
              "      <th id=\"T_d8eae_level0_col1\" class=\"col_heading level0 col1\" >1</th>\n",
              "      <th id=\"T_d8eae_level0_col2\" class=\"col_heading level0 col2\" >2</th>\n",
              "      <th id=\"T_d8eae_level0_col3\" class=\"col_heading level0 col3\" >3</th>\n",
              "      <th id=\"T_d8eae_level0_col4\" class=\"col_heading level0 col4\" >4</th>\n",
              "      <th id=\"T_d8eae_level0_col5\" class=\"col_heading level0 col5\" >5</th>\n",
              "      <th id=\"T_d8eae_level0_col6\" class=\"col_heading level0 col6\" >6</th>\n",
              "      <th id=\"T_d8eae_level0_col7\" class=\"col_heading level0 col7\" >7</th>\n",
              "      <th id=\"T_d8eae_level0_col8\" class=\"col_heading level0 col8\" >8</th>\n",
              "      <th id=\"T_d8eae_level0_col9\" class=\"col_heading level0 col9\" >9</th>\n",
              "      <th id=\"T_d8eae_level0_col10\" class=\"col_heading level0 col10\" >10</th>\n",
              "      <th id=\"T_d8eae_level0_col11\" class=\"col_heading level0 col11\" >11</th>\n",
              "      <th id=\"T_d8eae_level0_col12\" class=\"col_heading level0 col12\" >12</th>\n",
              "      <th id=\"T_d8eae_level0_col13\" class=\"col_heading level0 col13\" >13</th>\n",
              "      <th id=\"T_d8eae_level0_col14\" class=\"col_heading level0 col14\" >14</th>\n",
              "      <th id=\"T_d8eae_level0_col15\" class=\"col_heading level0 col15\" >15</th>\n",
              "      <th id=\"T_d8eae_level0_col16\" class=\"col_heading level0 col16\" >16</th>\n",
              "      <th id=\"T_d8eae_level0_col17\" class=\"col_heading level0 col17\" >17</th>\n",
              "    </tr>\n",
              "  </thead>\n",
              "  <tbody>\n",
              "    <tr>\n",
              "      <th id=\"T_d8eae_level0_row0\" class=\"row_heading level0 row0\" >0</th>\n",
              "      <td id=\"T_d8eae_row0_col0\" class=\"data row0 col0\" >0</td>\n",
              "      <td id=\"T_d8eae_row0_col1\" class=\"data row0 col1\" >0</td>\n",
              "      <td id=\"T_d8eae_row0_col2\" class=\"data row0 col2\" >0</td>\n",
              "      <td id=\"T_d8eae_row0_col3\" class=\"data row0 col3\" >0</td>\n",
              "      <td id=\"T_d8eae_row0_col4\" class=\"data row0 col4\" >0</td>\n",
              "      <td id=\"T_d8eae_row0_col5\" class=\"data row0 col5\" >0</td>\n",
              "      <td id=\"T_d8eae_row0_col6\" class=\"data row0 col6\" >0</td>\n",
              "      <td id=\"T_d8eae_row0_col7\" class=\"data row0 col7\" >0</td>\n",
              "      <td id=\"T_d8eae_row0_col8\" class=\"data row0 col8\" >0</td>\n",
              "      <td id=\"T_d8eae_row0_col9\" class=\"data row0 col9\" >0</td>\n",
              "      <td id=\"T_d8eae_row0_col10\" class=\"data row0 col10\" >0</td>\n",
              "      <td id=\"T_d8eae_row0_col11\" class=\"data row0 col11\" >0</td>\n",
              "      <td id=\"T_d8eae_row0_col12\" class=\"data row0 col12\" >0</td>\n",
              "      <td id=\"T_d8eae_row0_col13\" class=\"data row0 col13\" >0</td>\n",
              "      <td id=\"T_d8eae_row0_col14\" class=\"data row0 col14\" >0</td>\n",
              "      <td id=\"T_d8eae_row0_col15\" class=\"data row0 col15\" >0</td>\n",
              "      <td id=\"T_d8eae_row0_col16\" class=\"data row0 col16\" >0</td>\n",
              "      <td id=\"T_d8eae_row0_col17\" class=\"data row0 col17\" >0</td>\n",
              "    </tr>\n",
              "    <tr>\n",
              "      <th id=\"T_d8eae_level0_row1\" class=\"row_heading level0 row1\" >1</th>\n",
              "      <td id=\"T_d8eae_row1_col0\" class=\"data row1 col0\" >0</td>\n",
              "      <td id=\"T_d8eae_row1_col1\" class=\"data row1 col1\" >0</td>\n",
              "      <td id=\"T_d8eae_row1_col2\" class=\"data row1 col2\" >0</td>\n",
              "      <td id=\"T_d8eae_row1_col3\" class=\"data row1 col3\" >0</td>\n",
              "      <td id=\"T_d8eae_row1_col4\" class=\"data row1 col4\" >0</td>\n",
              "      <td id=\"T_d8eae_row1_col5\" class=\"data row1 col5\" >29</td>\n",
              "      <td id=\"T_d8eae_row1_col6\" class=\"data row1 col6\" >150</td>\n",
              "      <td id=\"T_d8eae_row1_col7\" class=\"data row1 col7\" >195</td>\n",
              "      <td id=\"T_d8eae_row1_col8\" class=\"data row1 col8\" >254</td>\n",
              "      <td id=\"T_d8eae_row1_col9\" class=\"data row1 col9\" >255</td>\n",
              "      <td id=\"T_d8eae_row1_col10\" class=\"data row1 col10\" >254</td>\n",
              "      <td id=\"T_d8eae_row1_col11\" class=\"data row1 col11\" >176</td>\n",
              "      <td id=\"T_d8eae_row1_col12\" class=\"data row1 col12\" >193</td>\n",
              "      <td id=\"T_d8eae_row1_col13\" class=\"data row1 col13\" >150</td>\n",
              "      <td id=\"T_d8eae_row1_col14\" class=\"data row1 col14\" >96</td>\n",
              "      <td id=\"T_d8eae_row1_col15\" class=\"data row1 col15\" >0</td>\n",
              "      <td id=\"T_d8eae_row1_col16\" class=\"data row1 col16\" >0</td>\n",
              "      <td id=\"T_d8eae_row1_col17\" class=\"data row1 col17\" >0</td>\n",
              "    </tr>\n",
              "    <tr>\n",
              "      <th id=\"T_d8eae_level0_row2\" class=\"row_heading level0 row2\" >2</th>\n",
              "      <td id=\"T_d8eae_row2_col0\" class=\"data row2 col0\" >0</td>\n",
              "      <td id=\"T_d8eae_row2_col1\" class=\"data row2 col1\" >0</td>\n",
              "      <td id=\"T_d8eae_row2_col2\" class=\"data row2 col2\" >0</td>\n",
              "      <td id=\"T_d8eae_row2_col3\" class=\"data row2 col3\" >48</td>\n",
              "      <td id=\"T_d8eae_row2_col4\" class=\"data row2 col4\" >166</td>\n",
              "      <td id=\"T_d8eae_row2_col5\" class=\"data row2 col5\" >224</td>\n",
              "      <td id=\"T_d8eae_row2_col6\" class=\"data row2 col6\" >253</td>\n",
              "      <td id=\"T_d8eae_row2_col7\" class=\"data row2 col7\" >253</td>\n",
              "      <td id=\"T_d8eae_row2_col8\" class=\"data row2 col8\" >234</td>\n",
              "      <td id=\"T_d8eae_row2_col9\" class=\"data row2 col9\" >196</td>\n",
              "      <td id=\"T_d8eae_row2_col10\" class=\"data row2 col10\" >253</td>\n",
              "      <td id=\"T_d8eae_row2_col11\" class=\"data row2 col11\" >253</td>\n",
              "      <td id=\"T_d8eae_row2_col12\" class=\"data row2 col12\" >253</td>\n",
              "      <td id=\"T_d8eae_row2_col13\" class=\"data row2 col13\" >253</td>\n",
              "      <td id=\"T_d8eae_row2_col14\" class=\"data row2 col14\" >233</td>\n",
              "      <td id=\"T_d8eae_row2_col15\" class=\"data row2 col15\" >0</td>\n",
              "      <td id=\"T_d8eae_row2_col16\" class=\"data row2 col16\" >0</td>\n",
              "      <td id=\"T_d8eae_row2_col17\" class=\"data row2 col17\" >0</td>\n",
              "    </tr>\n",
              "    <tr>\n",
              "      <th id=\"T_d8eae_level0_row3\" class=\"row_heading level0 row3\" >3</th>\n",
              "      <td id=\"T_d8eae_row3_col0\" class=\"data row3 col0\" >0</td>\n",
              "      <td id=\"T_d8eae_row3_col1\" class=\"data row3 col1\" >93</td>\n",
              "      <td id=\"T_d8eae_row3_col2\" class=\"data row3 col2\" >244</td>\n",
              "      <td id=\"T_d8eae_row3_col3\" class=\"data row3 col3\" >249</td>\n",
              "      <td id=\"T_d8eae_row3_col4\" class=\"data row3 col4\" >253</td>\n",
              "      <td id=\"T_d8eae_row3_col5\" class=\"data row3 col5\" >187</td>\n",
              "      <td id=\"T_d8eae_row3_col6\" class=\"data row3 col6\" >46</td>\n",
              "      <td id=\"T_d8eae_row3_col7\" class=\"data row3 col7\" >10</td>\n",
              "      <td id=\"T_d8eae_row3_col8\" class=\"data row3 col8\" >8</td>\n",
              "      <td id=\"T_d8eae_row3_col9\" class=\"data row3 col9\" >4</td>\n",
              "      <td id=\"T_d8eae_row3_col10\" class=\"data row3 col10\" >10</td>\n",
              "      <td id=\"T_d8eae_row3_col11\" class=\"data row3 col11\" >194</td>\n",
              "      <td id=\"T_d8eae_row3_col12\" class=\"data row3 col12\" >253</td>\n",
              "      <td id=\"T_d8eae_row3_col13\" class=\"data row3 col13\" >253</td>\n",
              "      <td id=\"T_d8eae_row3_col14\" class=\"data row3 col14\" >233</td>\n",
              "      <td id=\"T_d8eae_row3_col15\" class=\"data row3 col15\" >0</td>\n",
              "      <td id=\"T_d8eae_row3_col16\" class=\"data row3 col16\" >0</td>\n",
              "      <td id=\"T_d8eae_row3_col17\" class=\"data row3 col17\" >0</td>\n",
              "    </tr>\n",
              "    <tr>\n",
              "      <th id=\"T_d8eae_level0_row4\" class=\"row_heading level0 row4\" >4</th>\n",
              "      <td id=\"T_d8eae_row4_col0\" class=\"data row4 col0\" >0</td>\n",
              "      <td id=\"T_d8eae_row4_col1\" class=\"data row4 col1\" >107</td>\n",
              "      <td id=\"T_d8eae_row4_col2\" class=\"data row4 col2\" >253</td>\n",
              "      <td id=\"T_d8eae_row4_col3\" class=\"data row4 col3\" >253</td>\n",
              "      <td id=\"T_d8eae_row4_col4\" class=\"data row4 col4\" >230</td>\n",
              "      <td id=\"T_d8eae_row4_col5\" class=\"data row4 col5\" >48</td>\n",
              "      <td id=\"T_d8eae_row4_col6\" class=\"data row4 col6\" >0</td>\n",
              "      <td id=\"T_d8eae_row4_col7\" class=\"data row4 col7\" >0</td>\n",
              "      <td id=\"T_d8eae_row4_col8\" class=\"data row4 col8\" >0</td>\n",
              "      <td id=\"T_d8eae_row4_col9\" class=\"data row4 col9\" >0</td>\n",
              "      <td id=\"T_d8eae_row4_col10\" class=\"data row4 col10\" >0</td>\n",
              "      <td id=\"T_d8eae_row4_col11\" class=\"data row4 col11\" >192</td>\n",
              "      <td id=\"T_d8eae_row4_col12\" class=\"data row4 col12\" >253</td>\n",
              "      <td id=\"T_d8eae_row4_col13\" class=\"data row4 col13\" >253</td>\n",
              "      <td id=\"T_d8eae_row4_col14\" class=\"data row4 col14\" >156</td>\n",
              "      <td id=\"T_d8eae_row4_col15\" class=\"data row4 col15\" >0</td>\n",
              "      <td id=\"T_d8eae_row4_col16\" class=\"data row4 col16\" >0</td>\n",
              "      <td id=\"T_d8eae_row4_col17\" class=\"data row4 col17\" >0</td>\n",
              "    </tr>\n",
              "    <tr>\n",
              "      <th id=\"T_d8eae_level0_row5\" class=\"row_heading level0 row5\" >5</th>\n",
              "      <td id=\"T_d8eae_row5_col0\" class=\"data row5 col0\" >0</td>\n",
              "      <td id=\"T_d8eae_row5_col1\" class=\"data row5 col1\" >3</td>\n",
              "      <td id=\"T_d8eae_row5_col2\" class=\"data row5 col2\" >20</td>\n",
              "      <td id=\"T_d8eae_row5_col3\" class=\"data row5 col3\" >20</td>\n",
              "      <td id=\"T_d8eae_row5_col4\" class=\"data row5 col4\" >15</td>\n",
              "      <td id=\"T_d8eae_row5_col5\" class=\"data row5 col5\" >0</td>\n",
              "      <td id=\"T_d8eae_row5_col6\" class=\"data row5 col6\" >0</td>\n",
              "      <td id=\"T_d8eae_row5_col7\" class=\"data row5 col7\" >0</td>\n",
              "      <td id=\"T_d8eae_row5_col8\" class=\"data row5 col8\" >0</td>\n",
              "      <td id=\"T_d8eae_row5_col9\" class=\"data row5 col9\" >0</td>\n",
              "      <td id=\"T_d8eae_row5_col10\" class=\"data row5 col10\" >43</td>\n",
              "      <td id=\"T_d8eae_row5_col11\" class=\"data row5 col11\" >224</td>\n",
              "      <td id=\"T_d8eae_row5_col12\" class=\"data row5 col12\" >253</td>\n",
              "      <td id=\"T_d8eae_row5_col13\" class=\"data row5 col13\" >245</td>\n",
              "      <td id=\"T_d8eae_row5_col14\" class=\"data row5 col14\" >74</td>\n",
              "      <td id=\"T_d8eae_row5_col15\" class=\"data row5 col15\" >0</td>\n",
              "      <td id=\"T_d8eae_row5_col16\" class=\"data row5 col16\" >0</td>\n",
              "      <td id=\"T_d8eae_row5_col17\" class=\"data row5 col17\" >0</td>\n",
              "    </tr>\n",
              "    <tr>\n",
              "      <th id=\"T_d8eae_level0_row6\" class=\"row_heading level0 row6\" >6</th>\n",
              "      <td id=\"T_d8eae_row6_col0\" class=\"data row6 col0\" >0</td>\n",
              "      <td id=\"T_d8eae_row6_col1\" class=\"data row6 col1\" >0</td>\n",
              "      <td id=\"T_d8eae_row6_col2\" class=\"data row6 col2\" >0</td>\n",
              "      <td id=\"T_d8eae_row6_col3\" class=\"data row6 col3\" >0</td>\n",
              "      <td id=\"T_d8eae_row6_col4\" class=\"data row6 col4\" >0</td>\n",
              "      <td id=\"T_d8eae_row6_col5\" class=\"data row6 col5\" >0</td>\n",
              "      <td id=\"T_d8eae_row6_col6\" class=\"data row6 col6\" >0</td>\n",
              "      <td id=\"T_d8eae_row6_col7\" class=\"data row6 col7\" >0</td>\n",
              "      <td id=\"T_d8eae_row6_col8\" class=\"data row6 col8\" >0</td>\n",
              "      <td id=\"T_d8eae_row6_col9\" class=\"data row6 col9\" >0</td>\n",
              "      <td id=\"T_d8eae_row6_col10\" class=\"data row6 col10\" >249</td>\n",
              "      <td id=\"T_d8eae_row6_col11\" class=\"data row6 col11\" >253</td>\n",
              "      <td id=\"T_d8eae_row6_col12\" class=\"data row6 col12\" >245</td>\n",
              "      <td id=\"T_d8eae_row6_col13\" class=\"data row6 col13\" >126</td>\n",
              "      <td id=\"T_d8eae_row6_col14\" class=\"data row6 col14\" >0</td>\n",
              "      <td id=\"T_d8eae_row6_col15\" class=\"data row6 col15\" >0</td>\n",
              "      <td id=\"T_d8eae_row6_col16\" class=\"data row6 col16\" >0</td>\n",
              "      <td id=\"T_d8eae_row6_col17\" class=\"data row6 col17\" >0</td>\n",
              "    </tr>\n",
              "    <tr>\n",
              "      <th id=\"T_d8eae_level0_row7\" class=\"row_heading level0 row7\" >7</th>\n",
              "      <td id=\"T_d8eae_row7_col0\" class=\"data row7 col0\" >0</td>\n",
              "      <td id=\"T_d8eae_row7_col1\" class=\"data row7 col1\" >0</td>\n",
              "      <td id=\"T_d8eae_row7_col2\" class=\"data row7 col2\" >0</td>\n",
              "      <td id=\"T_d8eae_row7_col3\" class=\"data row7 col3\" >0</td>\n",
              "      <td id=\"T_d8eae_row7_col4\" class=\"data row7 col4\" >0</td>\n",
              "      <td id=\"T_d8eae_row7_col5\" class=\"data row7 col5\" >0</td>\n",
              "      <td id=\"T_d8eae_row7_col6\" class=\"data row7 col6\" >0</td>\n",
              "      <td id=\"T_d8eae_row7_col7\" class=\"data row7 col7\" >14</td>\n",
              "      <td id=\"T_d8eae_row7_col8\" class=\"data row7 col8\" >101</td>\n",
              "      <td id=\"T_d8eae_row7_col9\" class=\"data row7 col9\" >223</td>\n",
              "      <td id=\"T_d8eae_row7_col10\" class=\"data row7 col10\" >253</td>\n",
              "      <td id=\"T_d8eae_row7_col11\" class=\"data row7 col11\" >248</td>\n",
              "      <td id=\"T_d8eae_row7_col12\" class=\"data row7 col12\" >124</td>\n",
              "      <td id=\"T_d8eae_row7_col13\" class=\"data row7 col13\" >0</td>\n",
              "      <td id=\"T_d8eae_row7_col14\" class=\"data row7 col14\" >0</td>\n",
              "      <td id=\"T_d8eae_row7_col15\" class=\"data row7 col15\" >0</td>\n",
              "      <td id=\"T_d8eae_row7_col16\" class=\"data row7 col16\" >0</td>\n",
              "      <td id=\"T_d8eae_row7_col17\" class=\"data row7 col17\" >0</td>\n",
              "    </tr>\n",
              "    <tr>\n",
              "      <th id=\"T_d8eae_level0_row8\" class=\"row_heading level0 row8\" >8</th>\n",
              "      <td id=\"T_d8eae_row8_col0\" class=\"data row8 col0\" >0</td>\n",
              "      <td id=\"T_d8eae_row8_col1\" class=\"data row8 col1\" >0</td>\n",
              "      <td id=\"T_d8eae_row8_col2\" class=\"data row8 col2\" >0</td>\n",
              "      <td id=\"T_d8eae_row8_col3\" class=\"data row8 col3\" >0</td>\n",
              "      <td id=\"T_d8eae_row8_col4\" class=\"data row8 col4\" >0</td>\n",
              "      <td id=\"T_d8eae_row8_col5\" class=\"data row8 col5\" >11</td>\n",
              "      <td id=\"T_d8eae_row8_col6\" class=\"data row8 col6\" >166</td>\n",
              "      <td id=\"T_d8eae_row8_col7\" class=\"data row8 col7\" >239</td>\n",
              "      <td id=\"T_d8eae_row8_col8\" class=\"data row8 col8\" >253</td>\n",
              "      <td id=\"T_d8eae_row8_col9\" class=\"data row8 col9\" >253</td>\n",
              "      <td id=\"T_d8eae_row8_col10\" class=\"data row8 col10\" >253</td>\n",
              "      <td id=\"T_d8eae_row8_col11\" class=\"data row8 col11\" >187</td>\n",
              "      <td id=\"T_d8eae_row8_col12\" class=\"data row8 col12\" >30</td>\n",
              "      <td id=\"T_d8eae_row8_col13\" class=\"data row8 col13\" >0</td>\n",
              "      <td id=\"T_d8eae_row8_col14\" class=\"data row8 col14\" >0</td>\n",
              "      <td id=\"T_d8eae_row8_col15\" class=\"data row8 col15\" >0</td>\n",
              "      <td id=\"T_d8eae_row8_col16\" class=\"data row8 col16\" >0</td>\n",
              "      <td id=\"T_d8eae_row8_col17\" class=\"data row8 col17\" >0</td>\n",
              "    </tr>\n",
              "    <tr>\n",
              "      <th id=\"T_d8eae_level0_row9\" class=\"row_heading level0 row9\" >9</th>\n",
              "      <td id=\"T_d8eae_row9_col0\" class=\"data row9 col0\" >0</td>\n",
              "      <td id=\"T_d8eae_row9_col1\" class=\"data row9 col1\" >0</td>\n",
              "      <td id=\"T_d8eae_row9_col2\" class=\"data row9 col2\" >0</td>\n",
              "      <td id=\"T_d8eae_row9_col3\" class=\"data row9 col3\" >0</td>\n",
              "      <td id=\"T_d8eae_row9_col4\" class=\"data row9 col4\" >0</td>\n",
              "      <td id=\"T_d8eae_row9_col5\" class=\"data row9 col5\" >16</td>\n",
              "      <td id=\"T_d8eae_row9_col6\" class=\"data row9 col6\" >248</td>\n",
              "      <td id=\"T_d8eae_row9_col7\" class=\"data row9 col7\" >250</td>\n",
              "      <td id=\"T_d8eae_row9_col8\" class=\"data row9 col8\" >253</td>\n",
              "      <td id=\"T_d8eae_row9_col9\" class=\"data row9 col9\" >253</td>\n",
              "      <td id=\"T_d8eae_row9_col10\" class=\"data row9 col10\" >253</td>\n",
              "      <td id=\"T_d8eae_row9_col11\" class=\"data row9 col11\" >253</td>\n",
              "      <td id=\"T_d8eae_row9_col12\" class=\"data row9 col12\" >232</td>\n",
              "      <td id=\"T_d8eae_row9_col13\" class=\"data row9 col13\" >213</td>\n",
              "      <td id=\"T_d8eae_row9_col14\" class=\"data row9 col14\" >111</td>\n",
              "      <td id=\"T_d8eae_row9_col15\" class=\"data row9 col15\" >2</td>\n",
              "      <td id=\"T_d8eae_row9_col16\" class=\"data row9 col16\" >0</td>\n",
              "      <td id=\"T_d8eae_row9_col17\" class=\"data row9 col17\" >0</td>\n",
              "    </tr>\n",
              "    <tr>\n",
              "      <th id=\"T_d8eae_level0_row10\" class=\"row_heading level0 row10\" >10</th>\n",
              "      <td id=\"T_d8eae_row10_col0\" class=\"data row10 col0\" >0</td>\n",
              "      <td id=\"T_d8eae_row10_col1\" class=\"data row10 col1\" >0</td>\n",
              "      <td id=\"T_d8eae_row10_col2\" class=\"data row10 col2\" >0</td>\n",
              "      <td id=\"T_d8eae_row10_col3\" class=\"data row10 col3\" >0</td>\n",
              "      <td id=\"T_d8eae_row10_col4\" class=\"data row10 col4\" >0</td>\n",
              "      <td id=\"T_d8eae_row10_col5\" class=\"data row10 col5\" >0</td>\n",
              "      <td id=\"T_d8eae_row10_col6\" class=\"data row10 col6\" >0</td>\n",
              "      <td id=\"T_d8eae_row10_col7\" class=\"data row10 col7\" >43</td>\n",
              "      <td id=\"T_d8eae_row10_col8\" class=\"data row10 col8\" >98</td>\n",
              "      <td id=\"T_d8eae_row10_col9\" class=\"data row10 col9\" >98</td>\n",
              "      <td id=\"T_d8eae_row10_col10\" class=\"data row10 col10\" >208</td>\n",
              "      <td id=\"T_d8eae_row10_col11\" class=\"data row10 col11\" >253</td>\n",
              "      <td id=\"T_d8eae_row10_col12\" class=\"data row10 col12\" >253</td>\n",
              "      <td id=\"T_d8eae_row10_col13\" class=\"data row10 col13\" >253</td>\n",
              "      <td id=\"T_d8eae_row10_col14\" class=\"data row10 col14\" >253</td>\n",
              "      <td id=\"T_d8eae_row10_col15\" class=\"data row10 col15\" >187</td>\n",
              "      <td id=\"T_d8eae_row10_col16\" class=\"data row10 col16\" >22</td>\n",
              "      <td id=\"T_d8eae_row10_col17\" class=\"data row10 col17\" >0</td>\n",
              "    </tr>\n",
              "  </tbody>\n",
              "</table>\n"
            ]
          },
          "metadata": {},
          "execution_count": 12
        }
      ],
      "source": [
        "#hide_output\n",
        "im3_t = tensor(im3)\n",
        "df = pd.DataFrame(im3_t[4:15,4:22]) #slice the tensor to extract rows 4 to 14 and columns 4 to 21, creating a smaller 2D tensor, then convert it to a Pandas DF\n",
        "df.style.set_properties(**{'font-size':'6pt'}).background_gradient('Greys') #apply a background gradient based on the values in the DataFrame, using the 'Greys' colormap"
      ]
    },
    {
      "cell_type": "markdown",
      "metadata": {
        "id": "yKDpFdEDT_eX"
      },
      "source": [
        "<img width=\"453\" id=\"output_pd_pixels\" src=\"images/att_00058.png\">"
      ]
    },
    {
      "cell_type": "code",
      "execution_count": 13,
      "metadata": {
        "colab": {
          "base_uri": "https://localhost:8080/"
        },
        "id": "zLhNuqkET_en",
        "outputId": "f0df3d6c-8a52-48dd-d797-7454f078b419"
      },
      "outputs": [
        {
          "output_type": "execute_result",
          "data": {
            "text/plain": [
              "(6131, 6265)"
            ]
          },
          "metadata": {},
          "execution_count": 13
        }
      ],
      "source": [
        "# load images of the digits '3' and '7' from their respective directories into lists of PyTorch tensors\n",
        "seven_tensors = [tensor(Image.open(o)) for o in sevens]\n",
        "three_tensors = [tensor(Image.open(o)) for o in threes]\n",
        "len(three_tensors),len(seven_tensors) #print the number of tensors loaded for each digit"
      ]
    },
    {
      "cell_type": "markdown",
      "metadata": {
        "id": "SCNJgHVST_er"
      },
      "source": [
        "We'll also check that one of the images looks okay. Since we now have tensors (which Jupyter by default will print as values), rather than PIL images (which Jupyter by default will display as images), we need to use fastai's `show_image` function to display it:"
      ]
    },
    {
      "cell_type": "code",
      "execution_count": 14,
      "metadata": {
        "colab": {
          "base_uri": "https://localhost:8080/",
          "height": 114
        },
        "id": "g9JS7sitT_er",
        "outputId": "adff346a-20c8-4e72-9afa-5fd1f81cd030"
      },
      "outputs": [
        {
          "output_type": "display_data",
          "data": {
            "text/plain": [
              "<Figure size 100x100 with 1 Axes>"
            ],
            "image/png": "[encoded data removed]"
          },
          "metadata": {}
        }
      ],
      "source": [
        "show_image(three_tensors[1]); #display the second image of the digit '3'"
      ]
    },
    {
      "cell_type": "code",
      "execution_count": 15,
      "metadata": {
        "colab": {
          "base_uri": "https://localhost:8080/"
        },
        "id": "zQ3jKEhfT_ez",
        "outputId": "dc157295-f1b8-4b14-98a8-07e7dae1f2dd"
      },
      "outputs": [
        {
          "output_type": "execute_result",
          "data": {
            "text/plain": [
              "torch.Size([6131, 28, 28])"
            ]
          },
          "metadata": {},
          "execution_count": 15
        }
      ],
      "source": [
        "#stack the tensors representing images of the digit '7' and the digit '3' into single tensors, and then normalize the pixel values to be in the range [0, 1] by dividing by 255\n",
        "#the value 255 represents the maximum pixel value in an 8-bit grayscale image\n",
        "\n",
        "stacked_sevens = torch.stack(seven_tensors).float()/255\n",
        "stacked_threes = torch.stack(three_tensors).float()/255\n",
        "\n",
        "#print the shape of the tensor containing images of the digit '3'\n",
        "stacked_threes.shape"
      ]
    },
    {
      "cell_type": "code",
      "execution_count": 16,
      "metadata": {
        "colab": {
          "base_uri": "https://localhost:8080/"
        },
        "id": "7pK-j2SmT_fJ",
        "outputId": "531a994c-656b-47a4-8212-4ebeafa515aa"
      },
      "outputs": [
        {
          "output_type": "execute_result",
          "data": {
            "text/plain": [
              "3"
            ]
          },
          "metadata": {},
          "execution_count": 16
        }
      ],
      "source": [
        "len(stacked_threes.shape) #return the number of dimensions in the shape of the tensor stacked_threes"
      ]
    },
    {
      "cell_type": "code",
      "execution_count": 18,
      "metadata": {
        "colab": {
          "base_uri": "https://localhost:8080/"
        },
        "id": "EAdLjFfxT_fL",
        "outputId": "0fe218eb-08cf-4106-8459-3b466a734def"
      },
      "outputs": [
        {
          "output_type": "execute_result",
          "data": {
            "text/plain": [
              "3"
            ]
          },
          "metadata": {},
          "execution_count": 18
        }
      ],
      "source": [
        "stacked_threes.ndim #get a tensor's rank directly with ndim"
      ]
    },
    {
      "cell_type": "code",
      "execution_count": 24,
      "metadata": {
        "colab": {
          "base_uri": "https://localhost:8080/",
          "height": 114
        },
        "id": "UoMV60ztT_fM",
        "outputId": "f6ec943d-f882-4b15-d129-9da3c910a56f"
      },
      "outputs": [
        {
          "output_type": "display_data",
          "data": {
            "text/plain": [
              "<Figure size 100x100 with 1 Axes>"
            ],
            "image/png": "[encoded data removed]"
          },
          "metadata": {}
        }
      ],
      "source": [
        "mean3 = stacked_threes.mean(0) #calculate the mean across the first dimension (index 0) of the tensor stacked_threes\n",
        "show_image(mean3); #vizualize the average appearance of the digit '3' across all images in the dataset"
      ]
    },
    {
      "cell_type": "code",
      "source": [
        "mean7 = stacked_sevens.mean(0) #calculate the mean across the first dimension (index 0) of the tensor stacked_sevens\n",
        "show_image(mean7); #vizualize the average appearance of the digit '7' across all images in the dataset"
      ],
      "metadata": {
        "colab": {
          "base_uri": "https://localhost:8080/",
          "height": 114
        },
        "id": "0qjd8bKY_NKE",
        "outputId": "23a4df94-b41f-4b6d-850d-357f643da3bc"
      },
      "execution_count": 25,
      "outputs": [
        {
          "output_type": "display_data",
          "data": {
            "text/plain": [
              "<Figure size 100x100 with 1 Axes>"
            ],
            "image/png": "[encoded data removed]"
          },
          "metadata": {}
        }
      ]
    },
    {
      "cell_type": "code",
      "execution_count": 26,
      "metadata": {
        "colab": {
          "base_uri": "https://localhost:8080/",
          "height": 114
        },
        "id": "MVLOBIAKT_fT",
        "outputId": "27893f3b-3905-417d-865a-7fc767412dd0"
      },
      "outputs": [
        {
          "output_type": "display_data",
          "data": {
            "text/plain": [
              "<Figure size 100x100 with 1 Axes>"
            ],
            "image/png": "[encoded data removed]"
          },
          "metadata": {}
        }
      ],
      "source": [
        "a_3 = stacked_threes[1] #get a sample of digit 3\n",
        "show_image(a_3);"
      ]
    },
    {
      "cell_type": "code",
      "execution_count": 27,
      "metadata": {
        "colab": {
          "base_uri": "https://localhost:8080/"
        },
        "id": "aYqBwSvMT_fV",
        "outputId": "1531da0b-feff-40ba-ab15-49f5b066cdf9"
      },
      "outputs": [
        {
          "output_type": "execute_result",
          "data": {
            "text/plain": [
              "(tensor(0.1114), tensor(0.2021))"
            ]
          },
          "metadata": {},
          "execution_count": 27
        }
      ],
      "source": [
        "# compute two different distance metrics between an random image of the digit '3' (a_3) and the mean image of the digit '3' (mean3)\n",
        "dist_3_abs = (a_3 - mean3).abs().mean() #Compute mean absolute difference\n",
        "\n",
        "dist_3_sqr = ((a_3 - mean3)**2).mean().sqrt() #Compute root mean squared difference\n",
        "\n",
        "dist_3_abs,dist_3_sqr"
      ]
    },
    {
      "cell_type": "code",
      "execution_count": 28,
      "metadata": {
        "colab": {
          "base_uri": "https://localhost:8080/"
        },
        "id": "izlFeo7mT_fX",
        "outputId": "d78c7e2d-d737-412d-fcc3-d696bd3c2d7e"
      },
      "outputs": [
        {
          "output_type": "execute_result",
          "data": {
            "text/plain": [
              "(tensor(0.1586), tensor(0.3021))"
            ]
          },
          "metadata": {},
          "execution_count": 28
        }
      ],
      "source": [
        "## compute two different distance metrics between an random image of the digit '3' (a_3) and the mean image of the digit '7' (mean7)\n",
        "dist_7_abs = (a_3 - mean7).abs().mean()\n",
        "dist_7_sqr = ((a_3 - mean7)**2).mean().sqrt()\n",
        "dist_7_abs,dist_7_sqr"
      ]
    },
    {
      "cell_type": "markdown",
      "metadata": {
        "id": "hlaFs93NT_fZ"
      },
      "source": [
        "In both cases, the distance between our 3 and the \"ideal\" 3 is less than the distance to the ideal 7. So our simple model will give the right prediction in this case."
      ]
    },
    {
      "cell_type": "code",
      "execution_count": null,
      "metadata": {
        "id": "wFaLxX0RT_fc",
        "outputId": "779d7d75-176c-4293-c1a8-c2761c45cc4f"
      },
      "outputs": [
        {
          "data": {
            "text/plain": [
              "(tensor(0.1586), tensor(0.3021))"
            ]
          },
          "execution_count": null,
          "metadata": {},
          "output_type": "execute_result"
        }
      ],
      "source": [
        "#compute two different loss functions between an individual image of the digit '3' (a_3) and the mean image of the digit '7' (mean7)\n",
        "#The two loss functions used are the mean absolute error (L1 loss) and the mean squared error (MSE loss)\n",
        "F.l1_loss(a_3.float(),mean7), F.mse_loss(a_3,mean7).sqrt()"
      ]
    },
    {
      "cell_type": "code",
      "execution_count": 29,
      "metadata": {
        "id": "fOjTTTjhT_fn"
      },
      "outputs": [],
      "source": [
        "#create a list data containing two lists, each representing a row of data. Then, convert this data into both a NumPy array and a PyTorch tensor.\n",
        "data = [[1,2,3],[4,5,6]]\n",
        "arr = array (data)\n",
        "tns = tensor(data)"
      ]
    },
    {
      "cell_type": "code",
      "execution_count": 30,
      "metadata": {
        "colab": {
          "base_uri": "https://localhost:8080/"
        },
        "id": "bOmXS8F1T_fp",
        "outputId": "a638ed81-aed3-480c-cf05-089fae0cdf92"
      },
      "outputs": [
        {
          "output_type": "execute_result",
          "data": {
            "text/plain": [
              "array([[1, 2, 3],\n",
              "       [4, 5, 6]])"
            ]
          },
          "metadata": {},
          "execution_count": 30
        }
      ],
      "source": [
        "arr  # numpy"
      ]
    },
    {
      "cell_type": "code",
      "execution_count": 31,
      "metadata": {
        "colab": {
          "base_uri": "https://localhost:8080/"
        },
        "id": "6MeDm9V3T_fq",
        "outputId": "a3819a8c-fc5e-454f-f0b6-c68a80e9e860"
      },
      "outputs": [
        {
          "output_type": "execute_result",
          "data": {
            "text/plain": [
              "tensor([[1, 2, 3],\n",
              "        [4, 5, 6]])"
            ]
          },
          "metadata": {},
          "execution_count": 31
        }
      ],
      "source": [
        "tns  # pytorch"
      ]
    },
    {
      "cell_type": "code",
      "execution_count": 32,
      "metadata": {
        "colab": {
          "base_uri": "https://localhost:8080/"
        },
        "id": "bViD93cET_fr",
        "outputId": "86d19afb-7b9b-4d25-ef53-c4bc72c54866"
      },
      "outputs": [
        {
          "output_type": "execute_result",
          "data": {
            "text/plain": [
              "tensor([4, 5, 6])"
            ]
          },
          "metadata": {},
          "execution_count": 32
        }
      ],
      "source": [
        "tns[1] #display 2nd row of the tensor"
      ]
    },
    {
      "cell_type": "code",
      "execution_count": 33,
      "metadata": {
        "colab": {
          "base_uri": "https://localhost:8080/"
        },
        "id": "KU7r4FGrT_ft",
        "outputId": "c8637d4d-6573-4bdd-dd64-47bea184e6ec"
      },
      "outputs": [
        {
          "output_type": "execute_result",
          "data": {
            "text/plain": [
              "tensor([2, 5])"
            ]
          },
          "metadata": {},
          "execution_count": 33
        }
      ],
      "source": [
        "tns[:,1] #display data from the 2nd column"
      ]
    },
    {
      "cell_type": "code",
      "execution_count": 34,
      "metadata": {
        "colab": {
          "base_uri": "https://localhost:8080/"
        },
        "id": "bsZXRlFZT_fx",
        "outputId": "916c835e-c505-4682-9fe2-6ab39b3e93ee"
      },
      "outputs": [
        {
          "output_type": "execute_result",
          "data": {
            "text/plain": [
              "tensor([5, 6])"
            ]
          },
          "metadata": {},
          "execution_count": 34
        }
      ],
      "source": [
        "tns[1,1:3]"
      ]
    },
    {
      "cell_type": "markdown",
      "metadata": {
        "id": "sMzvkZ9XT_f1"
      },
      "source": [
        "And you can use the standard operators such as `+`, `-`, `*`, `/`:"
      ]
    },
    {
      "cell_type": "code",
      "execution_count": 35,
      "metadata": {
        "colab": {
          "base_uri": "https://localhost:8080/"
        },
        "id": "EAeFEzT4T_f2",
        "outputId": "ab905d58-07c5-450c-ecf6-5968dacc50d4"
      },
      "outputs": [
        {
          "output_type": "execute_result",
          "data": {
            "text/plain": [
              "tensor([[2, 3, 4],\n",
              "        [5, 6, 7]])"
            ]
          },
          "metadata": {},
          "execution_count": 35
        }
      ],
      "source": [
        "tns+1"
      ]
    },
    {
      "cell_type": "markdown",
      "metadata": {
        "id": "VHKrxENdT_f2"
      },
      "source": [
        "Tensors have a type:"
      ]
    },
    {
      "cell_type": "code",
      "execution_count": 36,
      "metadata": {
        "colab": {
          "base_uri": "https://localhost:8080/",
          "height": 35
        },
        "id": "2mmcYQ0OT_f5",
        "outputId": "17dacc3b-a358-468e-dd04-06a5981843e6"
      },
      "outputs": [
        {
          "output_type": "execute_result",
          "data": {
            "text/plain": [
              "'torch.LongTensor'"
            ],
            "application/vnd.google.colaboratory.intrinsic+json": {
              "type": "string"
            }
          },
          "metadata": {},
          "execution_count": 36
        }
      ],
      "source": [
        "tns.type()"
      ]
    },
    {
      "cell_type": "markdown",
      "metadata": {
        "id": "ahkueSI_T_f5"
      },
      "source": [
        "And will automatically change type as needed, for example from `int` to `float`:"
      ]
    },
    {
      "cell_type": "code",
      "execution_count": 37,
      "metadata": {
        "colab": {
          "base_uri": "https://localhost:8080/"
        },
        "id": "8y5wyEt-T_f6",
        "outputId": "2d59332f-4f39-49f7-aac1-62945f337fb5"
      },
      "outputs": [
        {
          "output_type": "execute_result",
          "data": {
            "text/plain": [
              "tensor([[1.5000, 3.0000, 4.5000],\n",
              "        [6.0000, 7.5000, 9.0000]])"
            ]
          },
          "metadata": {},
          "execution_count": 37
        }
      ],
      "source": [
        "tns*1.5"
      ]
    },
    {
      "cell_type": "markdown",
      "metadata": {
        "id": "BuRCa-g9T_f7"
      },
      "source": [
        "## Computing Metrics Using Broadcasting"
      ]
    },
    {
      "cell_type": "code",
      "execution_count": 41,
      "metadata": {
        "colab": {
          "base_uri": "https://localhost:8080/"
        },
        "id": "dIUA2pZbT_f8",
        "outputId": "44f5b16f-4875-4232-dd95-96b8a212e60f"
      },
      "outputs": [
        {
          "output_type": "execute_result",
          "data": {
            "text/plain": [
              "(torch.Size([1010, 28, 28]), torch.Size([1028, 28, 28]))"
            ]
          },
          "metadata": {},
          "execution_count": 41
        }
      ],
      "source": [
        "#load images of the digits '3' and '7' from their respective directories in the validation set, then convert them into PyTorch tensors\n",
        "#normalize the pixel values to be in the range [0, 1] by dividing by 255\n",
        "valid_3_tens = torch.stack([tensor(Image.open(o)) for o in (path/'valid'/'3').ls()])\n",
        "valid_3_tens = valid_3_tens.float()/255\n",
        "valid_7_tens = torch.stack([tensor(Image.open(o)) for o in (path/'valid'/'7').ls()])\n",
        "valid_7_tens = valid_7_tens.float()/255\n",
        "\n",
        "#print the shapes of the tensors\n",
        "valid_3_tens.shape,valid_7_tens.shape"
      ]
    },
    {
      "cell_type": "code",
      "execution_count": 42,
      "metadata": {
        "colab": {
          "base_uri": "https://localhost:8080/"
        },
        "id": "59vajMcCT_f-",
        "outputId": "948398a4-413d-42b5-af47-5249d6633dc4"
      },
      "outputs": [
        {
          "output_type": "execute_result",
          "data": {
            "text/plain": [
              "tensor(0.1114)"
            ]
          },
          "metadata": {},
          "execution_count": 42
        }
      ],
      "source": [
        "#define a function to calculate the mean absolute difference between two images represented as tensors\n",
        "def mnist_distance(a,b): return (a-b).abs().mean((-1,-2))\n",
        "\n",
        "mnist_distance(a_3, mean3)"
      ]
    },
    {
      "cell_type": "code",
      "execution_count": 44,
      "metadata": {
        "colab": {
          "base_uri": "https://localhost:8080/"
        },
        "id": "HR9fex-RT_f-",
        "outputId": "dd23fad3-82c8-46a1-c1ba-e7d4d81424b9"
      },
      "outputs": [
        {
          "output_type": "execute_result",
          "data": {
            "text/plain": [
              "(tensor([0.1745, 0.1173, 0.1285,  ..., 0.1229, 0.1605, 0.1107]),\n",
              " torch.Size([1010]))"
            ]
          },
          "metadata": {},
          "execution_count": 44
        }
      ],
      "source": [
        "#calculate the mean absolute difference between each image in the tensor valid_3_tens and the mean image mean3\n",
        "valid_3_dist = mnist_distance(valid_3_tens, mean3)\n",
        "valid_3_dist, valid_3_dist.shape"
      ]
    },
    {
      "cell_type": "code",
      "execution_count": 45,
      "metadata": {
        "colab": {
          "base_uri": "https://localhost:8080/"
        },
        "id": "jFNjFF49T_gH",
        "outputId": "63ee63d8-26b7-40e3-9b6f-6f80c3e63a02"
      },
      "outputs": [
        {
          "output_type": "execute_result",
          "data": {
            "text/plain": [
              "tensor([2, 3, 4])"
            ]
          },
          "metadata": {},
          "execution_count": 45
        }
      ],
      "source": [
        "tensor([1,2,3]) + tensor(1)"
      ]
    },
    {
      "cell_type": "code",
      "execution_count": 46,
      "metadata": {
        "colab": {
          "base_uri": "https://localhost:8080/"
        },
        "id": "qWvmy570T_gI",
        "outputId": "ca7cbe20-6e1d-45ea-fe3a-df40a4eacc57"
      },
      "outputs": [
        {
          "output_type": "execute_result",
          "data": {
            "text/plain": [
              "torch.Size([1010, 28, 28])"
            ]
          },
          "metadata": {},
          "execution_count": 46
        }
      ],
      "source": [
        "(valid_3_tens-mean3).shape #the shape of the resulting tensor will be the same as the shape of valid_3_tens."
      ]
    },
    {
      "cell_type": "code",
      "execution_count": 47,
      "metadata": {
        "id": "3DBs2kX7T_gK"
      },
      "outputs": [],
      "source": [
        "#define a function to take an image represented as a tensor x, return True if the distance between x and the mean image of digit '3' (mean3) is less than the distance between x and the mean image of digit '7' (mean7)\n",
        "\n",
        "def is_3(x): return mnist_distance(x,mean3) < mnist_distance(x,mean7)"
      ]
    },
    {
      "cell_type": "markdown",
      "metadata": {
        "id": "bNIXQjmMT_gK"
      },
      "source": [
        "Let's test it on our example case:"
      ]
    },
    {
      "cell_type": "code",
      "execution_count": 48,
      "metadata": {
        "colab": {
          "base_uri": "https://localhost:8080/"
        },
        "id": "EDwdke17T_gL",
        "outputId": "55da7173-f989-4054-8e95-4090166ff934"
      },
      "outputs": [
        {
          "output_type": "execute_result",
          "data": {
            "text/plain": [
              "(tensor(True), tensor(1.))"
            ]
          },
          "metadata": {},
          "execution_count": 48
        }
      ],
      "source": [
        "is_3(a_3), is_3(a_3).float() #convert the boolean result of is_3(a_3) into a float value (1.0 for True and 0.0 for False)"
      ]
    },
    {
      "cell_type": "code",
      "execution_count": 50,
      "metadata": {
        "colab": {
          "base_uri": "https://localhost:8080/"
        },
        "id": "l7a11z_rT_gP",
        "outputId": "03c78f94-af45-44ba-e878-737d87a9eba9"
      },
      "outputs": [
        {
          "output_type": "execute_result",
          "data": {
            "text/plain": [
              "(tensor(0.9168), tensor(0.9854), tensor(0.9511))"
            ]
          },
          "metadata": {},
          "execution_count": 50
        }
      ],
      "source": [
        "accuracy_3s =      is_3(valid_3_tens).float() .mean() #calculate the mean of the float values, giving the accuracy of classifying images of the digit '3' as '3'\n",
        "\n",
        "accuracy_7s = (1 - is_3(valid_7_tens).float()).mean() #calculate the mean of the negated float values, giving the accuracy of classifying images of the digit '7' as '7'\n",
        "\n",
        "\n",
        "accuracy_3s,accuracy_7s,(accuracy_3s+accuracy_7s)/2 #Calculate the average accuracy between classifying images of the digit '3' and '7'\n"
      ]
    },
    {
      "cell_type": "markdown",
      "metadata": {
        "id": "TXxvXaLCT_gV"
      },
      "source": [
        "## Stochastic Gradient Descent (SGD)"
      ]
    },
    {
      "cell_type": "code",
      "execution_count": 51,
      "metadata": {
        "hide_input": true,
        "colab": {
          "base_uri": "https://localhost:8080/",
          "height": 125
        },
        "id": "L0XQloA4T_gX",
        "outputId": "db35e579-45e9-40b2-92b4-b57b30716d24"
      },
      "outputs": [
        {
          "output_type": "execute_result",
          "data": {
            "image/svg+xml": "<?xml version=\"1.0\" encoding=\"UTF-8\" standalone=\"no\"?>\n<!DOCTYPE svg PUBLIC \"-//W3C//DTD SVG 1.1//EN\"\n \"http://www.w3.org/Graphics/SVG/1.1/DTD/svg11.dtd\">\n<!-- Generated by graphviz version 2.43.0 (0)\n -->\n<!-- Title: G Pages: 1 -->\n<svg width=\"591pt\" height=\"78pt\"\n viewBox=\"0.00 0.00 591.49 78.00\" xmlns=\"http://www.w3.org/2000/svg\" xmlns:xlink=\"http://www.w3.org/1999/xlink\">\n<g id=\"graph0\" class=\"graph\" transform=\"scale(1 1) rotate(0) translate(4 74)\">\n<title>G</title>\n<polygon fill=\"white\" stroke=\"transparent\" points=\"-4,4 -4,-74 587.49,-74 587.49,4 -4,4\"/>\n<!-- init -->\n<g id=\"node1\" class=\"node\">\n<title>init</title>\n<ellipse fill=\"none\" stroke=\"black\" cx=\"27\" cy=\"-18\" rx=\"27\" ry=\"18\"/>\n<text text-anchor=\"middle\" x=\"27\" y=\"-14.3\" font-family=\"Times,serif\" font-size=\"14.00\">init</text>\n</g>\n<!-- predict -->\n<g id=\"node2\" class=\"node\">\n<title>predict</title>\n<ellipse fill=\"none\" stroke=\"black\" cx=\"126.1\" cy=\"-18\" rx=\"35.19\" ry=\"18\"/>\n<text text-anchor=\"middle\" x=\"126.1\" y=\"-14.3\" font-family=\"Times,serif\" font-size=\"14.00\">predict</text>\n</g>\n<!-- init&#45;&gt;predict -->\n<g id=\"edge1\" class=\"edge\">\n<title>init&#45;&gt;predict</title>\n<path fill=\"none\" stroke=\"black\" d=\"M54.02,-18C62.26,-18 71.62,-18 80.78,-18\"/>\n<polygon fill=\"black\" stroke=\"black\" points=\"80.96,-21.5 90.96,-18 80.96,-14.5 80.96,-21.5\"/>\n</g>\n<!-- loss -->\n<g id=\"node3\" class=\"node\">\n<title>loss</title>\n<ellipse fill=\"none\" stroke=\"black\" cx=\"225.19\" cy=\"-52\" rx=\"27\" ry=\"18\"/>\n<text text-anchor=\"middle\" x=\"225.19\" y=\"-48.3\" font-family=\"Times,serif\" font-size=\"14.00\">loss</text>\n</g>\n<!-- predict&#45;&gt;loss -->\n<g id=\"edge2\" class=\"edge\">\n<title>predict&#45;&gt;loss</title>\n<path fill=\"none\" stroke=\"black\" d=\"M155.44,-27.93C166.61,-31.84 179.52,-36.36 191.11,-40.42\"/>\n<polygon fill=\"black\" stroke=\"black\" points=\"190.29,-43.84 200.88,-43.84 192.6,-37.23 190.29,-43.84\"/>\n</g>\n<!-- gradient -->\n<g id=\"node4\" class=\"node\">\n<title>gradient</title>\n<ellipse fill=\"none\" stroke=\"black\" cx=\"361.84\" cy=\"-52\" rx=\"39.79\" ry=\"18\"/>\n<text text-anchor=\"middle\" x=\"361.84\" y=\"-48.3\" font-family=\"Times,serif\" font-size=\"14.00\">gradient</text>\n</g>\n<!-- loss&#45;&gt;gradient -->\n<g id=\"edge3\" class=\"edge\">\n<title>loss&#45;&gt;gradient</title>\n<path fill=\"none\" stroke=\"black\" d=\"M252.47,-52C269.35,-52 291.8,-52 311.88,-52\"/>\n<polygon fill=\"black\" stroke=\"black\" points=\"312.13,-55.5 322.13,-52 312.13,-48.5 312.13,-55.5\"/>\n</g>\n<!-- step -->\n<g id=\"node5\" class=\"node\">\n<title>step</title>\n<ellipse fill=\"none\" stroke=\"black\" cx=\"465.49\" cy=\"-18\" rx=\"27\" ry=\"18\"/>\n<text text-anchor=\"middle\" x=\"465.49\" y=\"-14.3\" font-family=\"Times,serif\" font-size=\"14.00\">step</text>\n</g>\n<!-- gradient&#45;&gt;step -->\n<g id=\"edge4\" class=\"edge\">\n<title>gradient&#45;&gt;step</title>\n<path fill=\"none\" stroke=\"black\" d=\"M394.17,-41.52C405.92,-37.59 419.32,-33.11 431.25,-29.12\"/>\n<polygon fill=\"black\" stroke=\"black\" points=\"432.48,-32.4 440.85,-25.91 430.26,-25.76 432.48,-32.4\"/>\n</g>\n<!-- step&#45;&gt;predict -->\n<g id=\"edge6\" class=\"edge\">\n<title>step&#45;&gt;predict</title>\n<path fill=\"none\" stroke=\"black\" d=\"M438.29,-18C380.72,-18 242.6,-18 171.32,-18\"/>\n<polygon fill=\"black\" stroke=\"black\" points=\"171.3,-14.5 161.3,-18 171.3,-21.5 171.3,-14.5\"/>\n<text text-anchor=\"middle\" x=\"287.19\" y=\"-21.8\" font-family=\"Times,serif\" font-size=\"14.00\">repeat</text>\n</g>\n<!-- stop -->\n<g id=\"node6\" class=\"node\">\n<title>stop</title>\n<ellipse fill=\"none\" stroke=\"black\" cx=\"556.49\" cy=\"-18\" rx=\"27\" ry=\"18\"/>\n<text text-anchor=\"middle\" x=\"556.49\" y=\"-14.3\" font-family=\"Times,serif\" font-size=\"14.00\">stop</text>\n</g>\n<!-- step&#45;&gt;stop -->\n<g id=\"edge5\" class=\"edge\">\n<title>step&#45;&gt;stop</title>\n<path fill=\"none\" stroke=\"black\" d=\"M492.71,-18C501.04,-18 510.4,-18 519.3,-18\"/>\n<polygon fill=\"black\" stroke=\"black\" points=\"519.45,-21.5 529.45,-18 519.45,-14.5 519.45,-21.5\"/>\n</g>\n</g>\n</svg>\n",
            "text/plain": [
              "<graphviz.sources.Source at 0x7befec9ded10>"
            ]
          },
          "metadata": {},
          "execution_count": 51
        }
      ],
      "source": [
        "#id gradient_descent\n",
        "#caption The gradient descent process\n",
        "#alt Graph showing the steps for Gradient Descent\n",
        "gv('''\n",
        "init->predict->loss->gradient->step->stop\n",
        "step->predict[label=repeat]\n",
        "''')"
      ]
    },
    {
      "cell_type": "markdown",
      "metadata": {
        "id": "WMsU6xonT_ga"
      },
      "source": [
        "Before applying these steps to our image classification problem, let's illustrate what they look like in a simpler case. First we will define a very simple function, the quadratic—let's pretend that this is our loss function, and `x` is a weight parameter of the function:"
      ]
    },
    {
      "cell_type": "code",
      "execution_count": 52,
      "metadata": {
        "id": "sqxpsRwsT_gb"
      },
      "outputs": [],
      "source": [
        "def f(x): return x**2 #define a quadratic function"
      ]
    },
    {
      "cell_type": "markdown",
      "metadata": {
        "id": "0xG1G6_uT_gc"
      },
      "source": [
        "Here is a graph of that function:"
      ]
    },
    {
      "cell_type": "code",
      "execution_count": 53,
      "metadata": {
        "colab": {
          "base_uri": "https://localhost:8080/",
          "height": 396
        },
        "id": "t_2m-B_oT_gc",
        "outputId": "15a0cef3-f56d-496d-8cec-25cedf384413"
      },
      "outputs": [
        {
          "output_type": "display_data",
          "data": {
            "text/plain": [
              "<Figure size 600x400 with 1 Axes>"
            ],
            "image/png": "[encoded data removed]"
          },
          "metadata": {}
        }
      ],
      "source": [
        "plot_function(f, 'x', 'x**2') #plot the loss function"
      ]
    },
    {
      "cell_type": "markdown",
      "metadata": {
        "id": "OEGFQjl5T_gc"
      },
      "source": [
        "The sequence of steps we described earlier starts by picking some random value for a parameter, and calculating the value of the loss:"
      ]
    },
    {
      "cell_type": "code",
      "execution_count": 55,
      "metadata": {
        "colab": {
          "base_uri": "https://localhost:8080/",
          "height": 396
        },
        "id": "jCKhy9I5T_gd",
        "outputId": "a547e571-df79-4891-e604-db28eae804d3"
      },
      "outputs": [
        {
          "output_type": "display_data",
          "data": {
            "text/plain": [
              "<Figure size 600x400 with 1 Axes>"
            ],
            "image/png": "[encoded data removed]"
          },
          "metadata": {}
        }
      ],
      "source": [
        "plot_function(f, 'x', 'x**2')\n",
        "plt.scatter(-1.5, f(-1.5), color='red'); #pick a random value for the 'x' parameter"
      ]
    },
    {
      "cell_type": "markdown",
      "metadata": {
        "id": "XqwD5RcHT_gg"
      },
      "source": [
        "### Calculating Gradients"
      ]
    },
    {
      "cell_type": "code",
      "execution_count": 56,
      "metadata": {
        "id": "n3PQw9uPT_gi"
      },
      "outputs": [],
      "source": [
        "xt = tensor(3.).requires_grad_() #create a PyTorch tensor 'xt' with a single element containing the value 3.0 and enables gradient tracking for this tensor"
      ]
    },
    {
      "cell_type": "code",
      "execution_count": 57,
      "metadata": {
        "colab": {
          "base_uri": "https://localhost:8080/"
        },
        "id": "eMn3LE9zT_gj",
        "outputId": "280b93e8-34ed-4b12-fba5-dc643cba93ff"
      },
      "outputs": [
        {
          "output_type": "execute_result",
          "data": {
            "text/plain": [
              "tensor(9., grad_fn=<PowBackward0>)"
            ]
          },
          "metadata": {},
          "execution_count": 57
        }
      ],
      "source": [
        "yt = f(xt) #compute yt by applying function f(x)\n",
        "yt"
      ]
    },
    {
      "cell_type": "code",
      "execution_count": 61,
      "metadata": {
        "colab": {
          "base_uri": "https://localhost:8080/"
        },
        "id": "EFoGWjPsT_gq",
        "outputId": "30c6a65e-b64f-4596-a18a-eb3493bdc066"
      },
      "outputs": [
        {
          "output_type": "execute_result",
          "data": {
            "text/plain": [
              "tensor(6.)"
            ]
          },
          "metadata": {},
          "execution_count": 61
        }
      ],
      "source": [
        "xt.grad"
      ]
    },
    {
      "cell_type": "code",
      "execution_count": 79,
      "metadata": {
        "colab": {
          "base_uri": "https://localhost:8080/"
        },
        "id": "JAhMD3K2T_gr",
        "outputId": "f6a47e74-b567-433a-9f25-fd02e2d70050"
      },
      "outputs": [
        {
          "output_type": "execute_result",
          "data": {
            "text/plain": [
              "tensor([ 3.,  4., 10.], requires_grad=True)"
            ]
          },
          "metadata": {},
          "execution_count": 79
        }
      ],
      "source": [
        "xt = tensor([3.,4.,10.]).requires_grad_() #create a PyTorch tensor xt with three elements [3.0, 4.0, 10.0] and enable gradient tracking for this tensor\n",
        "xt"
      ]
    },
    {
      "cell_type": "markdown",
      "metadata": {
        "id": "OBWO049RT_gt"
      },
      "source": [
        "And we'll add `sum` to our function so it can take a vector (i.e., a rank-1 tensor), and return a scalar (i.e., a rank-0 tensor):"
      ]
    },
    {
      "cell_type": "code",
      "execution_count": 63,
      "metadata": {
        "colab": {
          "base_uri": "https://localhost:8080/"
        },
        "id": "KD6JsnaPT_gt",
        "outputId": "497f57a9-1453-425b-90be-6499a9527135"
      },
      "outputs": [
        {
          "output_type": "execute_result",
          "data": {
            "text/plain": [
              "tensor(125., grad_fn=<SumBackward0>)"
            ]
          },
          "metadata": {},
          "execution_count": 63
        }
      ],
      "source": [
        "def f(x): return (x**2).sum()\n",
        "\n",
        "yt = f(xt)\n",
        "yt"
      ]
    },
    {
      "cell_type": "markdown",
      "metadata": {
        "id": "dHRdxnRAT_gu"
      },
      "source": [
        "Our gradients are `2*xt`, as we'd expect!"
      ]
    },
    {
      "cell_type": "code",
      "execution_count": 64,
      "metadata": {
        "colab": {
          "base_uri": "https://localhost:8080/"
        },
        "id": "nzS1UiFJT_gv",
        "outputId": "48429290-db2f-4c96-f9df-51918050ec90"
      },
      "outputs": [
        {
          "output_type": "execute_result",
          "data": {
            "text/plain": [
              "tensor([ 6.,  8., 20.])"
            ]
          },
          "metadata": {},
          "execution_count": 64
        }
      ],
      "source": [
        "yt.backward()\n",
        "xt.grad"
      ]
    },
    {
      "cell_type": "markdown",
      "metadata": {
        "id": "eREAiWZ8T_gw"
      },
      "source": [
        "### Stepping With a Learning Rate"
      ]
    },
    {
      "cell_type": "markdown",
      "metadata": {
        "id": "EokxcaJGT_gz"
      },
      "source": [
        "Now let's apply all of this in an end-to-end example."
      ]
    },
    {
      "cell_type": "markdown",
      "metadata": {
        "id": "PsCuMGHiT_gz"
      },
      "source": [
        "### An End-to-End SGD Example"
      ]
    },
    {
      "cell_type": "code",
      "execution_count": 82,
      "metadata": {
        "colab": {
          "base_uri": "https://localhost:8080/"
        },
        "id": "0d3RXjAoT_g2",
        "outputId": "d9a719b0-feec-4f0f-952f-2da61fd2f1d9"
      },
      "outputs": [
        {
          "output_type": "execute_result",
          "data": {
            "text/plain": [
              "tensor([ 0.,  1.,  2.,  3.,  4.,  5.,  6.,  7.,  8.,  9., 10., 11., 12., 13., 14., 15., 16., 17., 18., 19.])"
            ]
          },
          "metadata": {},
          "execution_count": 82
        }
      ],
      "source": [
        "time = torch.arange(0,20).float(); time #create a PyTorch tensor 'time' containing floating-point values from 0 to 19"
      ]
    },
    {
      "cell_type": "code",
      "execution_count": 83,
      "metadata": {
        "colab": {
          "base_uri": "https://localhost:8080/",
          "height": 434
        },
        "id": "cNuEk9p6T_g3",
        "outputId": "ebe70219-ea72-4d46-b55c-7d4492052773"
      },
      "outputs": [
        {
          "output_type": "display_data",
          "data": {
            "text/plain": [
              "<Figure size 640x480 with 1 Axes>"
            ],
            "image/png": "[encoded data removed]"
          },
          "metadata": {}
        }
      ],
      "source": [
        "#generate a synthetic dataset for time and speed and then create a scatter plot to visualize the relationship between them\n",
        "\n",
        "speed = torch.randn(20)*3 + 0.75*(time-9.5)**2 + 1\n",
        "plt.scatter(time,speed);"
      ]
    },
    {
      "cell_type": "code",
      "execution_count": 84,
      "metadata": {
        "id": "90iDnxAUT_g5"
      },
      "outputs": [],
      "source": [
        "#this function takes two inputs: a time value t and a set of parameters params consisting of three values [a, b, c]\n",
        "def f(t, params):\n",
        "    a,b,c = params\n",
        "    return a*(t**2) + (b*t) + c #return a computed value based on a quadratic function"
      ]
    },
    {
      "cell_type": "code",
      "execution_count": 85,
      "metadata": {
        "id": "UIE1-8lGT_g7"
      },
      "outputs": [],
      "source": [
        "def mse(preds, targets): return ((preds-targets)**2).mean() #define a loss function"
      ]
    },
    {
      "cell_type": "markdown",
      "metadata": {
        "id": "sUHW1SJYT_g7"
      },
      "source": [
        "Now, let's work through our 7 step process."
      ]
    },
    {
      "cell_type": "markdown",
      "metadata": {
        "id": "YR9kt5xMT_g7"
      },
      "source": [
        "#### Step 1: Initialize the parameters"
      ]
    },
    {
      "cell_type": "code",
      "execution_count": 86,
      "metadata": {
        "id": "YXkhW-W-T_g8"
      },
      "outputs": [],
      "source": [
        "params = torch.randn(3).requires_grad_() #initialize the parameters to random values and ask PyTorch to track their gradients"
      ]
    },
    {
      "cell_type": "code",
      "execution_count": 87,
      "metadata": {
        "id": "_9m63ONJT_g8"
      },
      "outputs": [],
      "source": [
        "#hide\n",
        "orig_params = params.clone()"
      ]
    },
    {
      "cell_type": "markdown",
      "metadata": {
        "id": "RbT3pEqdT_g9"
      },
      "source": [
        "#### Step 2: Calculate the predictions"
      ]
    },
    {
      "cell_type": "code",
      "execution_count": 88,
      "metadata": {
        "id": "1fzq-BSAT_g-"
      },
      "outputs": [],
      "source": [
        "preds = f(time, params) #calculate the predictions with input 'time' and random parameters"
      ]
    },
    {
      "cell_type": "markdown",
      "metadata": {
        "id": "X1s_TKioT_g_"
      },
      "source": [
        "Let's create a little function to see how close our predictions are to our targets, and take a look:"
      ]
    },
    {
      "cell_type": "code",
      "execution_count": 89,
      "metadata": {
        "id": "TA1yRNTnT_g_"
      },
      "outputs": [],
      "source": [
        "def show_preds(preds, ax=None):\n",
        "    if ax is None: ax=plt.subplots()[1]\n",
        "    ax.scatter(time, speed)\n",
        "    ax.scatter(time, to_np(preds), color='red')\n",
        "    ax.set_ylim(-300,100)"
      ]
    },
    {
      "cell_type": "code",
      "execution_count": 90,
      "metadata": {
        "colab": {
          "base_uri": "https://localhost:8080/",
          "height": 441
        },
        "id": "vH3YBvkNT_hA",
        "outputId": "19bbdae4-889d-47eb-9ead-74fbd778a3a9"
      },
      "outputs": [
        {
          "output_type": "display_data",
          "data": {
            "text/plain": [
              "<Figure size 640x480 with 1 Axes>"
            ],
            "image/png": "[encoded data removed]"
          },
          "metadata": {}
        }
      ],
      "source": [
        "show_preds(preds) #plot predicted values vs actuals"
      ]
    },
    {
      "cell_type": "markdown",
      "metadata": {
        "id": "OqdCmECHT_hD"
      },
      "source": [
        "#### Step 3: Calculate the loss"
      ]
    },
    {
      "cell_type": "code",
      "execution_count": 92,
      "metadata": {
        "colab": {
          "base_uri": "https://localhost:8080/"
        },
        "id": "FCqnhdw4T_hF",
        "outputId": "132cef6f-bfe9-467e-e923-3cb05a641063"
      },
      "outputs": [
        {
          "output_type": "execute_result",
          "data": {
            "text/plain": [
              "tensor(20858.0801, grad_fn=<MeanBackward0>)"
            ]
          },
          "metadata": {},
          "execution_count": 92
        }
      ],
      "source": [
        "loss = mse(preds, speed) #calculate the loss\n",
        "loss"
      ]
    },
    {
      "cell_type": "markdown",
      "metadata": {
        "id": "_tR7SL29T_hK"
      },
      "source": [
        "#### Step 4: Calculate the gradients"
      ]
    },
    {
      "cell_type": "code",
      "execution_count": 93,
      "metadata": {
        "colab": {
          "base_uri": "https://localhost:8080/"
        },
        "id": "WQiLJyCgT_hL",
        "outputId": "638f96e8-c273-4f33-eac2-8a7c332ef89c"
      },
      "outputs": [
        {
          "output_type": "execute_result",
          "data": {
            "text/plain": [
              "tensor([-47743.6523,  -3047.7839,   -224.2141])"
            ]
          },
          "metadata": {},
          "execution_count": 93
        }
      ],
      "source": [
        "loss.backward() #calculate the gradients\n",
        "params.grad"
      ]
    },
    {
      "cell_type": "code",
      "execution_count": 94,
      "metadata": {
        "colab": {
          "base_uri": "https://localhost:8080/"
        },
        "id": "d6CZS9KUT_hM",
        "outputId": "fc122f96-0101-4f63-b149-974535074268"
      },
      "outputs": [
        {
          "output_type": "execute_result",
          "data": {
            "text/plain": [
              "tensor([-0.4774, -0.0305, -0.0022])"
            ]
          },
          "metadata": {},
          "execution_count": 94
        }
      ],
      "source": [
        "params.grad * 1e-5 #pick a learning rate of 1e-5"
      ]
    },
    {
      "cell_type": "code",
      "execution_count": 95,
      "metadata": {
        "colab": {
          "base_uri": "https://localhost:8080/"
        },
        "id": "iHnIXWV4T_hM",
        "outputId": "204d89fb-108c-4d09-da6f-67de593247f5"
      },
      "outputs": [
        {
          "output_type": "execute_result",
          "data": {
            "text/plain": [
              "tensor([-0.7409,  0.3618,  1.9199], requires_grad=True)"
            ]
          },
          "metadata": {},
          "execution_count": 95
        }
      ],
      "source": [
        "params"
      ]
    },
    {
      "cell_type": "markdown",
      "metadata": {
        "id": "UVsOHAHTT_hN"
      },
      "source": [
        "#### Step 5: Step the weights."
      ]
    },
    {
      "cell_type": "code",
      "execution_count": 96,
      "metadata": {
        "id": "aUaNIp8tT_hN"
      },
      "outputs": [],
      "source": [
        "#update the parameters based on the gradients we just calculated\n",
        "lr = 1e-5\n",
        "params.data -= lr * params.grad.data\n",
        "params.grad = None"
      ]
    },
    {
      "cell_type": "code",
      "execution_count": 97,
      "metadata": {
        "colab": {
          "base_uri": "https://localhost:8080/"
        },
        "id": "4XmtDerTT_hc",
        "outputId": "2d15b82c-58fc-4743-efed-366b48761921"
      },
      "outputs": [
        {
          "output_type": "execute_result",
          "data": {
            "text/plain": [
              "tensor(4435.8994, grad_fn=<MeanBackward0>)"
            ]
          },
          "metadata": {},
          "execution_count": 97
        }
      ],
      "source": [
        "preds = f(time,params)\n",
        "mse(preds, speed)"
      ]
    },
    {
      "cell_type": "markdown",
      "metadata": {
        "id": "ys05MHOMT_hc"
      },
      "source": [
        "And take a look at the plot:"
      ]
    },
    {
      "cell_type": "code",
      "execution_count": 99,
      "metadata": {
        "colab": {
          "base_uri": "https://localhost:8080/",
          "height": 441
        },
        "id": "u6c3vUTNT_hd",
        "outputId": "dde02d5f-1009-443a-cc6d-944b27731f27"
      },
      "outputs": [
        {
          "output_type": "display_data",
          "data": {
            "text/plain": [
              "<Figure size 640x480 with 1 Axes>"
            ],
            "image/png": "[encoded data removed]"
          },
          "metadata": {}
        }
      ],
      "source": [
        "show_preds(preds) #show the plot after updating the parameters"
      ]
    },
    {
      "cell_type": "markdown",
      "metadata": {
        "id": "FTaiXJ05T_he"
      },
      "source": [
        "We need to repeat this a few times, so we'll create a function to apply one step:"
      ]
    },
    {
      "cell_type": "code",
      "execution_count": 100,
      "metadata": {
        "id": "iMU_BeAkT_hf"
      },
      "outputs": [],
      "source": [
        "#create a function to iterate the process above\n",
        "def apply_step(params, prn=True):\n",
        "    preds = f(time, params)\n",
        "    loss = mse(preds, speed)\n",
        "    loss.backward()\n",
        "    params.data -= lr * params.grad.data\n",
        "    params.grad = None\n",
        "    if prn: print(loss.item())\n",
        "    return preds"
      ]
    },
    {
      "cell_type": "markdown",
      "metadata": {
        "id": "HY-WgMHMT_hf"
      },
      "source": [
        "#### Step 6: Repeat the process"
      ]
    },
    {
      "cell_type": "code",
      "execution_count": 102,
      "metadata": {
        "colab": {
          "base_uri": "https://localhost:8080/"
        },
        "id": "8NPZFeifT_hg",
        "outputId": "e16ea1c7-ad6a-43e7-ccff-c8371be834ad"
      },
      "outputs": [
        {
          "output_type": "stream",
          "name": "stdout",
          "text": [
            "602.9793701171875\n",
            "602.9744873046875\n",
            "602.9697265625\n",
            "602.965087890625\n",
            "602.9603271484375\n",
            "602.9556884765625\n",
            "602.9508666992188\n",
            "602.9461669921875\n",
            "602.94140625\n",
            "602.9368286132812\n"
          ]
        }
      ],
      "source": [
        "for i in range(10): apply_step(params) #loop and perform improvements"
      ]
    },
    {
      "cell_type": "code",
      "execution_count": 103,
      "metadata": {
        "id": "-K1qMmvrT_hg"
      },
      "outputs": [],
      "source": [
        "#hide\n",
        "params = orig_params.detach().requires_grad_()"
      ]
    },
    {
      "cell_type": "code",
      "execution_count": 104,
      "metadata": {
        "colab": {
          "base_uri": "https://localhost:8080/",
          "height": 300
        },
        "id": "0FfIakQlT_hh",
        "outputId": "137be2c2-e69c-420f-bf78-7735f4f0b72d"
      },
      "outputs": [
        {
          "output_type": "display_data",
          "data": {
            "text/plain": [
              "<Figure size 1200x300 with 4 Axes>"
            ],
            "image/png": "[encoded data removed]"
          },
          "metadata": {}
        }
      ],
      "source": [
        "#plot the results of improving\n",
        "_,axs = plt.subplots(1,4,figsize=(12,3))\n",
        "for ax in axs: show_preds(apply_step(params, False), ax)\n",
        "plt.tight_layout()"
      ]
    },
    {
      "cell_type": "markdown",
      "metadata": {
        "id": "NkOE0A_dT_hi"
      },
      "source": [
        "#### Step 7: stop"
      ]
    },
    {
      "cell_type": "markdown",
      "metadata": {
        "id": "n-JNNu5XT_hj"
      },
      "source": [
        "### Summarizing Gradient Descent"
      ]
    },
    {
      "cell_type": "code",
      "execution_count": 105,
      "metadata": {
        "hide_input": false,
        "colab": {
          "base_uri": "https://localhost:8080/",
          "height": 125
        },
        "id": "ck7XTSeBT_hj",
        "outputId": "a99696cc-8327-49bb-cc46-e48fba058745"
      },
      "outputs": [
        {
          "output_type": "execute_result",
          "data": {
            "image/svg+xml": "<?xml version=\"1.0\" encoding=\"UTF-8\" standalone=\"no\"?>\n<!DOCTYPE svg PUBLIC \"-//W3C//DTD SVG 1.1//EN\"\n \"http://www.w3.org/Graphics/SVG/1.1/DTD/svg11.dtd\">\n<!-- Generated by graphviz version 2.43.0 (0)\n -->\n<!-- Title: G Pages: 1 -->\n<svg width=\"591pt\" height=\"78pt\"\n viewBox=\"0.00 0.00 591.49 78.00\" xmlns=\"http://www.w3.org/2000/svg\" xmlns:xlink=\"http://www.w3.org/1999/xlink\">\n<g id=\"graph0\" class=\"graph\" transform=\"scale(1 1) rotate(0) translate(4 74)\">\n<title>G</title>\n<polygon fill=\"white\" stroke=\"transparent\" points=\"-4,4 -4,-74 587.49,-74 587.49,4 -4,4\"/>\n<!-- init -->\n<g id=\"node1\" class=\"node\">\n<title>init</title>\n<ellipse fill=\"none\" stroke=\"black\" cx=\"27\" cy=\"-18\" rx=\"27\" ry=\"18\"/>\n<text text-anchor=\"middle\" x=\"27\" y=\"-14.3\" font-family=\"Times,serif\" font-size=\"14.00\">init</text>\n</g>\n<!-- predict -->\n<g id=\"node2\" class=\"node\">\n<title>predict</title>\n<ellipse fill=\"none\" stroke=\"black\" cx=\"126.1\" cy=\"-18\" rx=\"35.19\" ry=\"18\"/>\n<text text-anchor=\"middle\" x=\"126.1\" y=\"-14.3\" font-family=\"Times,serif\" font-size=\"14.00\">predict</text>\n</g>\n<!-- init&#45;&gt;predict -->\n<g id=\"edge1\" class=\"edge\">\n<title>init&#45;&gt;predict</title>\n<path fill=\"none\" stroke=\"black\" d=\"M54.02,-18C62.26,-18 71.62,-18 80.78,-18\"/>\n<polygon fill=\"black\" stroke=\"black\" points=\"80.96,-21.5 90.96,-18 80.96,-14.5 80.96,-21.5\"/>\n</g>\n<!-- loss -->\n<g id=\"node3\" class=\"node\">\n<title>loss</title>\n<ellipse fill=\"none\" stroke=\"black\" cx=\"225.19\" cy=\"-52\" rx=\"27\" ry=\"18\"/>\n<text text-anchor=\"middle\" x=\"225.19\" y=\"-48.3\" font-family=\"Times,serif\" font-size=\"14.00\">loss</text>\n</g>\n<!-- predict&#45;&gt;loss -->\n<g id=\"edge2\" class=\"edge\">\n<title>predict&#45;&gt;loss</title>\n<path fill=\"none\" stroke=\"black\" d=\"M155.44,-27.93C166.61,-31.84 179.52,-36.36 191.11,-40.42\"/>\n<polygon fill=\"black\" stroke=\"black\" points=\"190.29,-43.84 200.88,-43.84 192.6,-37.23 190.29,-43.84\"/>\n</g>\n<!-- gradient -->\n<g id=\"node4\" class=\"node\">\n<title>gradient</title>\n<ellipse fill=\"none\" stroke=\"black\" cx=\"361.84\" cy=\"-52\" rx=\"39.79\" ry=\"18\"/>\n<text text-anchor=\"middle\" x=\"361.84\" y=\"-48.3\" font-family=\"Times,serif\" font-size=\"14.00\">gradient</text>\n</g>\n<!-- loss&#45;&gt;gradient -->\n<g id=\"edge3\" class=\"edge\">\n<title>loss&#45;&gt;gradient</title>\n<path fill=\"none\" stroke=\"black\" d=\"M252.47,-52C269.35,-52 291.8,-52 311.88,-52\"/>\n<polygon fill=\"black\" stroke=\"black\" points=\"312.13,-55.5 322.13,-52 312.13,-48.5 312.13,-55.5\"/>\n</g>\n<!-- step -->\n<g id=\"node5\" class=\"node\">\n<title>step</title>\n<ellipse fill=\"none\" stroke=\"black\" cx=\"465.49\" cy=\"-18\" rx=\"27\" ry=\"18\"/>\n<text text-anchor=\"middle\" x=\"465.49\" y=\"-14.3\" font-family=\"Times,serif\" font-size=\"14.00\">step</text>\n</g>\n<!-- gradient&#45;&gt;step -->\n<g id=\"edge4\" class=\"edge\">\n<title>gradient&#45;&gt;step</title>\n<path fill=\"none\" stroke=\"black\" d=\"M394.17,-41.52C405.92,-37.59 419.32,-33.11 431.25,-29.12\"/>\n<polygon fill=\"black\" stroke=\"black\" points=\"432.48,-32.4 440.85,-25.91 430.26,-25.76 432.48,-32.4\"/>\n</g>\n<!-- step&#45;&gt;predict -->\n<g id=\"edge6\" class=\"edge\">\n<title>step&#45;&gt;predict</title>\n<path fill=\"none\" stroke=\"black\" d=\"M438.29,-18C380.72,-18 242.6,-18 171.32,-18\"/>\n<polygon fill=\"black\" stroke=\"black\" points=\"171.3,-14.5 161.3,-18 171.3,-21.5 171.3,-14.5\"/>\n<text text-anchor=\"middle\" x=\"287.19\" y=\"-21.8\" font-family=\"Times,serif\" font-size=\"14.00\">repeat</text>\n</g>\n<!-- stop -->\n<g id=\"node6\" class=\"node\">\n<title>stop</title>\n<ellipse fill=\"none\" stroke=\"black\" cx=\"556.49\" cy=\"-18\" rx=\"27\" ry=\"18\"/>\n<text text-anchor=\"middle\" x=\"556.49\" y=\"-14.3\" font-family=\"Times,serif\" font-size=\"14.00\">stop</text>\n</g>\n<!-- step&#45;&gt;stop -->\n<g id=\"edge5\" class=\"edge\">\n<title>step&#45;&gt;stop</title>\n<path fill=\"none\" stroke=\"black\" d=\"M492.71,-18C501.04,-18 510.4,-18 519.3,-18\"/>\n<polygon fill=\"black\" stroke=\"black\" points=\"519.45,-21.5 529.45,-18 519.45,-14.5 519.45,-21.5\"/>\n</g>\n</g>\n</svg>\n",
            "text/plain": [
              "<graphviz.sources.Source at 0x7befe90927a0>"
            ]
          },
          "metadata": {},
          "execution_count": 105
        }
      ],
      "source": [
        "#hide_input\n",
        "#id gradient_descent\n",
        "#caption The gradient descent process\n",
        "#alt Graph showing the steps for Gradient Descent\n",
        "gv('''\n",
        "init->predict->loss->gradient->step->stop\n",
        "step->predict[label=repeat]\n",
        "''')"
      ]
    },
    {
      "cell_type": "markdown",
      "metadata": {
        "id": "FjTYNenYT_hk"
      },
      "source": [
        "## The MNIST Loss Function"
      ]
    },
    {
      "cell_type": "code",
      "execution_count": 107,
      "metadata": {
        "id": "6ENzCwd9T_hl"
      },
      "outputs": [],
      "source": [
        "# concatenate two tensors stacked_threes and stacked_sevens along the first dimension (rows), and then reshape the resulting tensor into a 2D tensor\n",
        "train_x = torch.cat([stacked_threes, stacked_sevens]).view(-1, 28*28)"
      ]
    },
    {
      "cell_type": "code",
      "execution_count": 108,
      "metadata": {
        "colab": {
          "base_uri": "https://localhost:8080/"
        },
        "id": "cuYkVkWiT_hn",
        "outputId": "7a21033e-de7b-4f07-a7a6-60538b82734d"
      },
      "outputs": [
        {
          "output_type": "execute_result",
          "data": {
            "text/plain": [
              "(torch.Size([12396, 784]), torch.Size([12396, 1]))"
            ]
          },
          "metadata": {},
          "execution_count": 108
        }
      ],
      "source": [
        "#label for each image, use `1` for 3s and `0` for 7s\n",
        "train_y = tensor([1]*len(threes) + [0]*len(sevens)).unsqueeze(1)\n",
        "train_x.shape,train_y.shape"
      ]
    },
    {
      "cell_type": "code",
      "execution_count": 109,
      "metadata": {
        "colab": {
          "base_uri": "https://localhost:8080/"
        },
        "id": "VhMmDhPKT_ho",
        "outputId": "253edaa6-83d5-4267-d79b-5ee010f71fcb"
      },
      "outputs": [
        {
          "output_type": "execute_result",
          "data": {
            "text/plain": [
              "(torch.Size([784]), tensor([1]))"
            ]
          },
          "metadata": {},
          "execution_count": 109
        }
      ],
      "source": [
        "dset = list(zip(train_x,train_y))\n",
        "x,y = dset[0]\n",
        "x.shape,y"
      ]
    },
    {
      "cell_type": "code",
      "execution_count": 110,
      "metadata": {
        "id": "M9-kxdB1T_ho"
      },
      "outputs": [],
      "source": [
        "valid_x = torch.cat([valid_3_tens, valid_7_tens]).view(-1, 28*28)\n",
        "valid_y = tensor([1]*len(valid_3_tens) + [0]*len(valid_7_tens)).unsqueeze(1)\n",
        "valid_dset = list(zip(valid_x,valid_y))"
      ]
    },
    {
      "cell_type": "code",
      "execution_count": 111,
      "metadata": {
        "id": "9WCZnhS0T_hp"
      },
      "outputs": [],
      "source": [
        "# the *initialize* step in our seven-step process\n",
        "def init_params(size, std=1.0): return (torch.randn(size)*std).requires_grad_()"
      ]
    },
    {
      "cell_type": "code",
      "execution_count": 113,
      "metadata": {
        "id": "jSLy8jC7T_hp"
      },
      "outputs": [],
      "source": [
        "weights = init_params((28*28,1))"
      ]
    },
    {
      "cell_type": "code",
      "execution_count": 112,
      "metadata": {
        "id": "rVjAu-B2T_hq"
      },
      "outputs": [],
      "source": [
        "bias = init_params(1)"
      ]
    },
    {
      "cell_type": "markdown",
      "metadata": {
        "id": "88QnN1FzT_hq"
      },
      "source": [
        "In neural networks, the `w` in the equation `y=w*x+b` is called the *weights*, and the `b` is called the *bias*. Together, the weights and bias make up the *parameters*."
      ]
    },
    {
      "cell_type": "markdown",
      "metadata": {
        "id": "KCvBL7diT_hq"
      },
      "source": [
        "> jargon: Parameters: The _weights_ and _biases_ of a model. The weights are the `w` in the equation `w*x+b`, and the biases are the `b` in that equation."
      ]
    },
    {
      "cell_type": "code",
      "execution_count": null,
      "metadata": {
        "id": "0lks1CXwT_hr",
        "outputId": "1fb812e2-2d1a-4dce-c8bd-e5053695e8e1"
      },
      "outputs": [
        {
          "data": {
            "text/plain": [
              "tensor([20.2336], grad_fn=<AddBackward0>)"
            ]
          },
          "execution_count": null,
          "metadata": {},
          "output_type": "execute_result"
        }
      ],
      "source": [
        "(train_x[0]*weights.T).sum() + bias #calculate a prediction for one image"
      ]
    },
    {
      "cell_type": "code",
      "execution_count": 114,
      "metadata": {
        "colab": {
          "base_uri": "https://localhost:8080/"
        },
        "id": "rVVme6_PT_hs",
        "outputId": "2d025817-726f-45dc-a96f-51d76a36a681"
      },
      "outputs": [
        {
          "output_type": "execute_result",
          "data": {
            "text/plain": [
              "tensor([[ 3.7602],\n",
              "        [10.0223],\n",
              "        [15.1395],\n",
              "        ...,\n",
              "        [ 4.7646],\n",
              "        [ 1.8502],\n",
              "        [ 3.3399]], grad_fn=<AddBackward0>)"
            ]
          },
          "metadata": {},
          "execution_count": 114
        }
      ],
      "source": [
        "# compute the predictions of a linear regression model given the input data xb, using the initialized weights weights and a bias term bias\n",
        "def linear1(xb): return xb@weights + bias\n",
        "preds = linear1(train_x)\n",
        "preds"
      ]
    },
    {
      "cell_type": "code",
      "source": [
        "corrects = (preds>0.5).float() == train_y #compare the predictions to a threshold value of 0.5, convert the result to floating-point numbers, and then check if the predicted values match the actual labels train_y\n",
        "#compute a tensor of boolean values indicating whether each prediction was correct or not\n",
        "\n",
        "corrects"
      ],
      "metadata": {
        "colab": {
          "base_uri": "https://localhost:8080/"
        },
        "id": "IeEBeU-dVjQI",
        "outputId": "f6c986cd-0c08-4285-8d69-1ec263d21cf7"
      },
      "execution_count": 118,
      "outputs": [
        {
          "output_type": "execute_result",
          "data": {
            "text/plain": [
              "tensor([[ True],\n",
              "        [ True],\n",
              "        [ True],\n",
              "        ...,\n",
              "        [False],\n",
              "        [False],\n",
              "        [False]])"
            ]
          },
          "metadata": {},
          "execution_count": 118
        }
      ]
    },
    {
      "cell_type": "code",
      "execution_count": 119,
      "metadata": {
        "colab": {
          "base_uri": "https://localhost:8080/"
        },
        "id": "BgCoWnSiT_ht",
        "outputId": "43bbc2af-6af6-406b-e57d-9ff3ca52307d"
      },
      "outputs": [
        {
          "output_type": "execute_result",
          "data": {
            "text/plain": [
              "0.4831397235393524"
            ]
          },
          "metadata": {},
          "execution_count": 119
        }
      ],
      "source": [
        "corrects.float().mean().item() #calculate the mean accuracy of the predictions stored in the tensor corrects\n",
        "\n"
      ]
    },
    {
      "cell_type": "code",
      "execution_count": 116,
      "metadata": {
        "id": "_XFm0JHsT_hu"
      },
      "outputs": [],
      "source": [
        "with torch.no_grad(): weights[0] *= 1.0001"
      ]
    },
    {
      "cell_type": "code",
      "execution_count": 120,
      "metadata": {
        "colab": {
          "base_uri": "https://localhost:8080/"
        },
        "id": "zAOubeDNT_hu",
        "outputId": "27d20057-76d9-4cbf-c3cf-d17315c3e56a"
      },
      "outputs": [
        {
          "output_type": "execute_result",
          "data": {
            "text/plain": [
              "0.4820910096168518"
            ]
          },
          "metadata": {},
          "execution_count": 120
        }
      ],
      "source": [
        "preds = linear1(train_x)\n",
        "((preds>0.0).float() == train_y).float().mean().item()"
      ]
    },
    {
      "cell_type": "code",
      "execution_count": 121,
      "metadata": {
        "id": "2jasVqlqT_hw"
      },
      "outputs": [],
      "source": [
        "trgts  = tensor([1,0,1])\n",
        "prds   = tensor([0.9, 0.4, 0.2])"
      ]
    },
    {
      "cell_type": "markdown",
      "metadata": {
        "id": "i0rvGZR7T_hx"
      },
      "source": [
        "Here's a first try at a loss function that measures the distance between `predictions` and `targets`:"
      ]
    },
    {
      "cell_type": "code",
      "execution_count": 122,
      "metadata": {
        "id": "6nn1tl-lT_hy"
      },
      "outputs": [],
      "source": [
        "def mnist_loss(predictions, targets):\n",
        "    return torch.where(targets==1, 1-predictions, predictions).mean()"
      ]
    },
    {
      "cell_type": "markdown",
      "metadata": {
        "id": "faNoQfS0T_h1"
      },
      "source": [
        "Let's try it on our `prds` and `trgts`:"
      ]
    },
    {
      "cell_type": "code",
      "execution_count": 123,
      "metadata": {
        "colab": {
          "base_uri": "https://localhost:8080/"
        },
        "id": "-xtXzM2-T_h2",
        "outputId": "e1b1e034-4eca-4e56-812b-2cdfec66f55b"
      },
      "outputs": [
        {
          "output_type": "execute_result",
          "data": {
            "text/plain": [
              "tensor([0.1000, 0.4000, 0.8000])"
            ]
          },
          "metadata": {},
          "execution_count": 123
        }
      ],
      "source": [
        "torch.where(trgts==1, 1-prds, prds)"
      ]
    },
    {
      "cell_type": "code",
      "execution_count": 124,
      "metadata": {
        "colab": {
          "base_uri": "https://localhost:8080/"
        },
        "id": "WaW5X8AWT_h2",
        "outputId": "cf16f565-e46c-4ae8-be13-365b50d70c2d"
      },
      "outputs": [
        {
          "output_type": "execute_result",
          "data": {
            "text/plain": [
              "tensor(0.4333)"
            ]
          },
          "metadata": {},
          "execution_count": 124
        }
      ],
      "source": [
        "mnist_loss(prds,trgts)"
      ]
    },
    {
      "cell_type": "code",
      "execution_count": 125,
      "metadata": {
        "colab": {
          "base_uri": "https://localhost:8080/"
        },
        "id": "CHjaHpmbT_h3",
        "outputId": "c0b9adee-a629-46cc-9e9d-a81610fd29d0"
      },
      "outputs": [
        {
          "output_type": "execute_result",
          "data": {
            "text/plain": [
              "tensor(0.2333)"
            ]
          },
          "metadata": {},
          "execution_count": 125
        }
      ],
      "source": [
        "mnist_loss(tensor([0.9, 0.4, 0.8]),trgts)"
      ]
    },
    {
      "cell_type": "code",
      "execution_count": null,
      "metadata": {
        "id": "gIOWBQaUT_k5"
      },
      "outputs": [],
      "source": []
    }
  ],
  "metadata": {
    "jupytext": {
      "split_at_heading": true
    },
    "kernelspec": {
      "display_name": "Python 3",
      "name": "python3"
    },
    "colab": {
      "provenance": [],
      "gpuType": "T4"
    },
    "accelerator": "GPU"
  },
  "nbformat": 4,
  "nbformat_minor": 0
}